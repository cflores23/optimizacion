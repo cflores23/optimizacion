{
  "nbformat": 4,
  "nbformat_minor": 0,
  "metadata": {
    "colab": {
      "provenance": [],
      "authorship_tag": "ABX9TyOtCXqfBJNCUAR3nb7F4QyV",
      "include_colab_link": true
    },
    "kernelspec": {
      "name": "python3",
      "display_name": "Python 3"
    },
    "language_info": {
      "name": "python"
    }
  },
  "cells": [
    {
      "cell_type": "markdown",
      "metadata": {
        "id": "view-in-github",
        "colab_type": "text"
      },
      "source": [
        "<a href=\"https://colab.research.google.com/github/cflores23/optimizacion/blob/main/nonlinear_regression_implementation.ipynb\" target=\"_parent\"><img src=\"https://colab.research.google.com/assets/colab-badge.svg\" alt=\"Open In Colab\"/></a>"
      ]
    },
    {
      "cell_type": "code",
      "source": [
        "import numpy as np \n",
        "import matplotlib.pyplot as plt\n",
        "import copy    # array-copying convenience\n",
        "import sys     # max float\n",
        "import random\n",
        "import pandas as pd"
      ],
      "metadata": {
        "id": "XcwdeEaw11TV"
      },
      "execution_count": 1,
      "outputs": []
    },
    {
      "cell_type": "markdown",
      "source": [
        "Leemos el dataset y se explora un poco para ver que datos trae"
      ],
      "metadata": {
        "id": "mUfQBHl7cYSQ"
      }
    },
    {
      "cell_type": "code",
      "source": [
        "data = pd.read_csv('covid_mex.csv')\n",
        "data.tail"
      ],
      "metadata": {
        "colab": {
          "base_uri": "https://localhost:8080/"
        },
        "id": "IsDpP34wupNG",
        "outputId": "6659327f-2a78-464d-85c4-1a10ee71a9b1"
      },
      "execution_count": 2,
      "outputs": [
        {
          "output_type": "execute_result",
          "data": {
            "text/plain": [
              "<bound method NDFrame.tail of            date  total_cases  total_deaths\n",
              "0     2/28/2020            1             0\n",
              "1     2/29/2020            4             0\n",
              "2      03/01/20            5             0\n",
              "3      03/02/20            5             0\n",
              "4      03/03/20            5             0\n",
              "..          ...          ...           ...\n",
              "668  12/27/2021      3951003        298777\n",
              "669  12/28/2021      3951946        298819\n",
              "670  12/29/2021      3956372        298944\n",
              "671  12/30/2021      3961662        299132\n",
              "672  12/31/2021      3979723        299428\n",
              "\n",
              "[673 rows x 3 columns]>"
            ]
          },
          "metadata": {},
          "execution_count": 2
        }
      ]
    },
    {
      "cell_type": "code",
      "source": [
        "maxs = data.max()\n",
        "\n",
        "print(\"Max of Each Column:\")\n",
        "print(maxs)"
      ],
      "metadata": {
        "colab": {
          "base_uri": "https://localhost:8080/"
        },
        "id": "0wE0Iix6RG6_",
        "outputId": "2a2147df-a44d-4425-cd71-2f326d83c3ac"
      },
      "execution_count": 3,
      "outputs": [
        {
          "output_type": "stream",
          "name": "stdout",
          "text": [
            "Max of Each Column:\n",
            "date            9/30/2021\n",
            "total_cases       3979723\n",
            "total_deaths       299428\n",
            "dtype: object\n"
          ]
        }
      ]
    },
    {
      "cell_type": "markdown",
      "source": [
        "Graficando los datos del dataset, con el objetivo de tener un panorama general de la tendencia que siguen:"
      ],
      "metadata": {
        "id": "5R_z6gywZmef"
      }
    },
    {
      "cell_type": "code",
      "source": [
        "graf=data.plot(\"total_cases\",\"total_deaths\", kind=\"scatter\")\n",
        "plt.show()"
      ],
      "metadata": {
        "colab": {
          "base_uri": "https://localhost:8080/",
          "height": 280
        },
        "id": "2BIP35QAvWQG",
        "outputId": "e9bcfb8f-3bb4-4f21-849c-8b5575a72c2f"
      },
      "execution_count": 4,
      "outputs": [
        {
          "output_type": "display_data",
          "data": {
            "text/plain": [
              "<Figure size 432x288 with 1 Axes>"
            ],
            "image/png": "[encoded data removed]"
          },
          "metadata": {
            "needs_background": "light"
          }
        }
      ]
    },
    {
      "cell_type": "markdown",
      "source": [
        "La regresión no lineal trata de ajustar una función no lineal a un conjunto de puntos. En otras palabras, se desea encontrar los parámetros de la siguiente función []:\n",
        "\n",
        "$y = f(x,θ)+ϵ$\n",
        "\n",
        "Donde $ϵ$ es un término de error\n",
        "\n",
        "En el problema de regresión se requiere encontrar los valores de los parámetros $θ = (θ_1, θ_2,...,θ_n)$ tal que minimice el criterio de mínimos cuadrados, el cual mide la calidad de la\n",
        "aproximación funcional propuesta mediante la minimización de la suma de\n",
        "las diferencias cuadráticas []: \n",
        "\n",
        "$S(θ)=∑_{i=1}^{n}[y_i - f(θ_i)]^2$\n",
        "\n",
        "Por lo tanto se trata de un problema de optimización, donde se debe encontrar el conjunto de valores de los parámetros $θ$ que minimice la suma de los cuadrados de los errores.\n",
        "\n",
        "En la presente implementación se decide usar un método de búsqueda global basada en población, se usará PSO para encontrar los valores de los parámetros tal como se describe en []. Por lo tanto, esta será la función objetivo.\n",
        "\n",
        "Se inicia la implementación de la función fitness:"
      ],
      "metadata": {
        "id": "EWEFiZxnS6Go"
      }
    },
    {
      "cell_type": "code",
      "source": [
        "def fitness_square(x, y, position):\n",
        "  f = 0.0\n",
        "  fitness_val = 0.0\n",
        "  for i in range(len(y)):\n",
        "    #print(i)\n",
        "    for j in range(len(position)):\n",
        "      x_i = x[i]\n",
        "      #print('x_i= '+str(x_i))\n",
        "      theta_i = position[j]\n",
        "      f = theta_i*x_i\n",
        "      #print('f= '+str(f))\n",
        "      #print('y= '+str(y[i]))\n",
        "    fitness_val += (y[i] - f)**2\n",
        "    #print('fit= '+str(fitness_val))\n",
        "\n",
        "  return fitness_val"
      ],
      "metadata": {
        "id": "fdbJmKOQYQUx"
      },
      "execution_count": 5,
      "outputs": []
    },
    {
      "cell_type": "code",
      "source": [
        "#Se crea la clase Partícula\n",
        "#Cada partícula tiene como atributos: Particle.position (su posición)\n",
        "                                    # Particle.velocity (su velocidad)\n",
        "                                    # Particle.fitness (su valor de aptitud)\n",
        "                                    # Particle.bestPos (la posición de la mejor partícula)\n",
        "                                    # Particle.bestFitness (la aptitud de la partícula con mejor posición)\n",
        "class Particle:\n",
        "  def __init__(self, fitness, dim, minx, maxx, semilla, x, y):\n",
        "    self.rnd = random.Random(semilla)\n",
        "\n",
        "    # Se inicializa la posición de la partícula en 0.0\n",
        "    self.position = [0.0 for i in range(dim)]\n",
        " \n",
        "     # Se inicializa el valor de la velocidad de la partícula con 0.0\n",
        "    self.velocity = [0.0 for i in range(dim)]\n",
        " \n",
        "    # Se inicializa la mejor posición de la partícula con 0.0\n",
        "    self.best_part_pos = [0.0 for i in range(dim)]\n",
        " \n",
        "    # Repetir n veces para calcular la posición y la velocidad\n",
        "    # range of position and velocity is [minx, max]\n",
        "    for i in range(dim):\n",
        "      self.position[i] = ((maxx - minx) *\n",
        "        self.rnd.random() + minx)\n",
        "      self.velocity[i] = ((maxx - minx) *\n",
        "        self.rnd.random() + minx)\n",
        " \n",
        "    # calcular el fitness de la partícula\n",
        "    self.fitness = fitness(x, y, self.position)\n",
        " \n",
        "    # inicializar la mejor posición y fitness de la partícula\n",
        "    self.best_part_pos = copy.copy(self.position)\n",
        "    self.best_part_fitnessVal = self.fitness"
      ],
      "metadata": {
        "id": "8Y1mk5L8lOFg"
      },
      "execution_count": 6,
      "outputs": []
    },
    {
      "cell_type": "code",
      "source": [
        "def pso(fitness, max_iter, n, dim, minx, maxx, x, y):\n",
        "  # parámetros de PSO\n",
        "  w = 0.729    # inercia\n",
        "  c1 = 1.49445 # cognitiva (particula)\n",
        "  c2 = 1.49445 # social (swarm)\n",
        " \n",
        "  rnd = random.Random(0)\n",
        " \n",
        "  # crear las n partículas\n",
        "  swarm = [Particle(fitness, dim, minx, maxx, i, x, y) for i in range(n)]\n",
        "  # calcular el valor de la mejor posición y mejor fitness en todo el swarm\n",
        "  best_swarm_pos = [0.0 for i in range(dim)]\n",
        "  # el mejor swarm\n",
        "  best_swarm_fitnessVal = sys.float_info.max \n",
        " \n",
        "  # calcular la mejor particula del swarm y su respectivo fitness\n",
        "  for i in range(n): \n",
        "    if swarm[i].fitness < best_swarm_fitnessVal:\n",
        "      best_swarm_fitnessVal = swarm[i].fitness\n",
        "      best_swarm_pos = copy.copy(swarm[i].position)\n",
        " \n",
        "  # Inicia el algoritmo PSO\n",
        "  Iter = 0\n",
        "  while Iter < max_iter:\n",
        "     \n",
        "    # Imprimir los resultados parciales, cada 10 iteraciones\n",
        "    if Iter % 10 == 0 and Iter > 1:\n",
        "      print(\"Iterción = \" + str(Iter) + \" mejor fitness = %.3f\" % best_swarm_fitnessVal)\n",
        " \n",
        "    for i in range(n): \n",
        "       \n",
        "      # Calcular la nueva velocidad de la partícula actual\n",
        "      for k in range(dim):\n",
        "        r1 = rnd.random()    \n",
        "        r2 = rnd.random()\n",
        "     \n",
        "        swarm[i].velocity[k] = (\n",
        "                                 (w * swarm[i].velocity[k]) +\n",
        "                                 (c1 * r1 * (swarm[i].best_part_pos[k] - swarm[i].position[k])) + \n",
        "                                 (c2 * r2 * (best_swarm_pos[k] -swarm[i].position[k]))\n",
        "                               ) \n",
        " \n",
        " \n",
        "        # Se comprueba si la velocidad está dentro del rango\n",
        "        #Si no entonces la regresamos dentro del límite permitido\n",
        "        if swarm[i].velocity[k] < minx:\n",
        "          swarm[i].velocity[k] = minx\n",
        "        elif swarm[i].velocity[k] > maxx:\n",
        "          swarm[i].velocity[k] = maxx\n",
        " \n",
        " \n",
        "      # Se calcula la nueva posición, para ello se una la nueva velocidad obtenida\n",
        "      for k in range(dim):\n",
        "        swarm[i].position[k] += swarm[i].velocity[k]\n",
        "   \n",
        "      # Se calcula la aptitud de la nueva posición\n",
        "      swarm[i].fitness = fitness(x,y,swarm[i].position)\n",
        " \n",
        "      # Comprobamos si la nueva posición es la mejor de la partícula\n",
        "      if swarm[i].fitness < swarm[i].best_part_fitnessVal:\n",
        "        swarm[i].best_part_fitnessVal = swarm[i].fitness\n",
        "        swarm[i].best_part_pos = copy.copy(swarm[i].position)\n",
        " \n",
        "      # Comprobamos si la nueva posición es la mejor globalmente\n",
        "      if swarm[i].fitness < best_swarm_fitnessVal:\n",
        "        best_swarm_fitnessVal = swarm[i].fitness\n",
        "        best_swarm_pos = copy.copy(swarm[i].position)\n",
        "     \n",
        "    Iter += 1\n",
        "\n",
        "  return best_swarm_pos"
      ],
      "metadata": {
        "id": "zjSykn1dowWY"
      },
      "execution_count": 7,
      "outputs": []
    },
    {
      "cell_type": "code",
      "source": [
        "print(\"*****Inicio****\\n\")\n",
        "#Para obtener la dim se puede obtener el número de columnas del dataset\n",
        "#Obvio, una vez realizada la limpieza del mismo\n",
        "dim = 1\n",
        "#Este string lo puse para definir la función objetivo, para el caso de que\n",
        "#sea un problema con restricciones es eficiente este método\n",
        "fitness = fitness_square\n",
        " \n",
        " \n",
        "print(\"El número de variables predictoras o dimensiones es \" + str(dim) + \" variables\")\n",
        "for i in range(dim-1):\n",
        "  print(\"0, \", end=\"\")\n",
        "print(\"0)\")\n",
        " \n",
        "num_particles = 500\n",
        "max_iter = 100\n",
        "\n",
        "x=data['total_cases'].tolist()\n",
        "#x = np.array(x)\n",
        "y=data['total_deaths'].tolist()\n",
        "#y = np.array(y)\n",
        " \n",
        "print(\"Número de partículas = \" + str(num_particles))\n",
        "print(\"Número máximo de iteraciones    = \" + str(max_iter))\n",
        "print(\"\\nIniciando la ejecución del algoritmo\\n\")\n",
        " \n",
        " \n",
        " \n",
        "best_position = pso(fitness, max_iter, num_particles, dim, 0.0, 10.0, x, y)\n",
        " \n",
        "print(\"\\nFin de la ejecución\\n\")\n",
        "print(\"\\nMejor solución encontrada:\")\n",
        "print([\"%.6f\"%best_position[k] for k in range(dim)])\n",
        "fitnessVal = fitness(x, y, best_position)\n",
        "print(\"Valor de aptitud de la mejor solución = %.6f\" % fitnessVal)\n",
        " \n",
        " "
      ],
      "metadata": {
        "colab": {
          "base_uri": "https://localhost:8080/"
        },
        "id": "hLXTuGgso67R",
        "outputId": "831a33db-6b87-4568-fd99-f09eef4fe334"
      },
      "execution_count": 9,
      "outputs": [
        {
          "output_type": "stream",
          "name": "stdout",
          "text": [
            "*****Inicio****\n",
            "\n",
            "El número de variables predictoras o dimensiones es 1 variables\n",
            "0)\n",
            "Número de partículas = 500\n",
            "Número máximo de iteraciones    = 100\n",
            "\n",
            "Iniciando la ejecución del algoritmo\n",
            "\n",
            "Iterción = 10 mejor fitness = 258359703722.907\n",
            "Iterción = 20 mejor fitness = 258359703722.907\n",
            "Iterción = 30 mejor fitness = 258359703722.907\n",
            "Iterción = 40 mejor fitness = 258359703722.907\n",
            "Iterción = 50 mejor fitness = 258359703722.907\n",
            "Iterción = 60 mejor fitness = 258359703722.907\n",
            "Iterción = 70 mejor fitness = 258359703722.907\n",
            "Iterción = 80 mejor fitness = 258359703722.907\n",
            "Iterción = 90 mejor fitness = 258359703722.907\n",
            "\n",
            "Fin de la ejecución\n",
            "\n",
            "\n",
            "Mejor solución encontrada:\n",
            "['0.086478']\n",
            "Valor de aptitud de la mejor solución = 258359703722.906982\n"
          ]
        }
      ]
    },
    {
      "cell_type": "markdown",
      "source": [
        "Una vez que se ha obtenido la mejor solución del swarm se puede usar para predecir. En nuestro caso, como se trata de un dataset con datos del número de casos confirmados de covid en México desde el inicio de la pandemia hasta el último día del año 2021, vamos a predecir, cuantas muertes podría haber si el número de contagios incrementa a 6,000,000. Para este ejemplo no se toma en cuenta otras variables, como por ejemplo el número de personas vacunadas, que podría repercutir en esta predicción."
      ],
      "metadata": {
        "id": "JosnVUodahZg"
      }
    },
    {
      "cell_type": "code",
      "source": [
        "y=0.086478*6000000\n",
        "y"
      ],
      "metadata": {
        "colab": {
          "base_uri": "https://localhost:8080/"
        },
        "id": "AsjyveRE2xUe",
        "outputId": "b3395622-5d62-47db-dff0-822310ec6cda"
      },
      "execution_count": 10,
      "outputs": [
        {
          "output_type": "execute_result",
          "data": {
            "text/plain": [
              "518868.0"
            ]
          },
          "metadata": {},
          "execution_count": 10
        }
      ]
    },
    {
      "cell_type": "code",
      "source": [
        "def f(r, best_p):\n",
        "  y = r*best_p\n",
        "  return y"
      ],
      "metadata": {
        "id": "d0CKyWkFZ8sQ"
      },
      "execution_count": 11,
      "outputs": []
    },
    {
      "cell_type": "markdown",
      "source": [
        "Tal como se puede apreciar, para este caso, como solo se considera una variable predictora, el resultado es una simple regresión lineal. Por lo que la gráfica de ajuste a los datos es tal como se ve en la siguiente figura:"
      ],
      "metadata": {
        "id": "t_wTo40ybsPG"
      }
    },
    {
      "cell_type": "code",
      "source": [
        "x_s=range(0,4000000)\n",
        "best = [best_position[k] for k in range(dim)]\n",
        "fig, ax = plt.subplots()\n",
        "ax.scatter(data['total_cases'],data['total_deaths'])\n",
        "ax.plot(x_s,[f(i,best[0]) for i in x_s])\n",
        "plt.show()"
      ],
      "metadata": {
        "id": "95UNC89mq2PC",
        "colab": {
          "base_uri": "https://localhost:8080/",
          "height": 278
        },
        "outputId": "70cca2b4-df1c-4498-8a2f-a8a5cbbfabfd"
      },
      "execution_count": 12,
      "outputs": [
        {
          "output_type": "display_data",
          "data": {
            "text/plain": [
              "<Figure size 432x288 with 1 Axes>"
            ],
            "image/png": "[encoded data removed]"
          },
          "metadata": {
            "needs_background": "light"
          }
        }
      ]
    },
    {
      "cell_type": "markdown",
      "source": [
        "No considerar las siguientes celdas."
      ],
      "metadata": {
        "id": "2HfUdad5b42A"
      }
    },
    {
      "cell_type": "code",
      "execution_count": null,
      "metadata": {
        "colab": {
          "base_uri": "https://localhost:8080/",
          "height": 279
        },
        "id": "kyDJUJHP0U4U",
        "outputId": "b8a77f75-76b6-4064-fe97-ddc3d19e0f22"
      },
      "outputs": [
        {
          "output_type": "display_data",
          "data": {
            "text/plain": [
              "<Figure size 432x288 with 1 Axes>"
            ],
            "image/png": "[encoded data removed]"
          },
          "metadata": {
            "needs_background": "light"
          }
        }
      ],
      "source": [
        "#Generamos un conjunto de datos aleatorios con cierto ruido para que tengan cierta separación\n",
        "min_x = -5.0\n",
        "max_x = 5.0\n",
        "x = np.arange(min_x, max_x, 0.1)\n",
        "y = 1*(x**3) + 1*(x**2) + 1*x + 3\n",
        "y_noise = 20 * np.random.normal(size=x.size)\n",
        "ydata = y + y_noise\n",
        "plt.plot(x, ydata,  'bo')\n",
        "plt.ylabel('Y')\n",
        "plt.xlabel('X')\n",
        "plt.show()"
      ]
    },
    {
      "cell_type": "code",
      "source": [
        "y"
      ],
      "metadata": {
        "id": "smYdBOj9HhZS",
        "outputId": "bebd69d3-4bb5-472f-cc2d-a38174dbce99",
        "colab": {
          "base_uri": "https://localhost:8080/"
        }
      },
      "execution_count": null,
      "outputs": [
        {
          "output_type": "execute_result",
          "data": {
            "text/plain": [
              "array([-1.02000e+02, -9.55390e+01, -8.93520e+01, -8.34330e+01,\n",
              "       -7.77760e+01, -7.23750e+01, -6.72240e+01, -6.23170e+01,\n",
              "       -5.76480e+01, -5.32110e+01, -4.90000e+01, -4.50090e+01,\n",
              "       -4.12320e+01, -3.76630e+01, -3.42960e+01, -3.11250e+01,\n",
              "       -2.81440e+01, -2.53470e+01, -2.27280e+01, -2.02810e+01,\n",
              "       -1.80000e+01, -1.58790e+01, -1.39120e+01, -1.20930e+01,\n",
              "       -1.04160e+01, -8.87500e+00, -7.46400e+00, -6.17700e+00,\n",
              "       -5.00800e+00, -3.95100e+00, -3.00000e+00, -2.14900e+00,\n",
              "       -1.39200e+00, -7.23000e-01, -1.36000e-01,  3.75000e-01,\n",
              "        8.16000e-01,  1.19300e+00,  1.51200e+00,  1.77900e+00,\n",
              "        2.00000e+00,  2.18100e+00,  2.32800e+00,  2.44700e+00,\n",
              "        2.54400e+00,  2.62500e+00,  2.69600e+00,  2.76300e+00,\n",
              "        2.83200e+00,  2.90900e+00,  3.00000e+00,  3.11100e+00,\n",
              "        3.24800e+00,  3.41700e+00,  3.62400e+00,  3.87500e+00,\n",
              "        4.17600e+00,  4.53300e+00,  4.95200e+00,  5.43900e+00,\n",
              "        6.00000e+00,  6.64100e+00,  7.36800e+00,  8.18700e+00,\n",
              "        9.10400e+00,  1.01250e+01,  1.12560e+01,  1.25030e+01,\n",
              "        1.38720e+01,  1.53690e+01,  1.70000e+01,  1.87710e+01,\n",
              "        2.06880e+01,  2.27570e+01,  2.49840e+01,  2.73750e+01,\n",
              "        2.99360e+01,  3.26730e+01,  3.55920e+01,  3.86990e+01,\n",
              "        4.20000e+01,  4.55010e+01,  4.92080e+01,  5.31270e+01,\n",
              "        5.72640e+01,  6.16250e+01,  6.62160e+01,  7.10430e+01,\n",
              "        7.61120e+01,  8.14290e+01,  8.70000e+01,  9.28310e+01,\n",
              "        9.89280e+01,  1.05297e+02,  1.11944e+02,  1.18875e+02,\n",
              "        1.26096e+02,  1.33613e+02,  1.41432e+02,  1.49559e+02])"
            ]
          },
          "metadata": {},
          "execution_count": 3
        }
      ]
    },
    {
      "cell_type": "code",
      "source": [
        "x"
      ],
      "metadata": {
        "colab": {
          "base_uri": "https://localhost:8080/"
        },
        "id": "IEUrvTk4h0g2",
        "outputId": "76e14592-948d-4872-ff88-6fb90d939bfa"
      },
      "execution_count": null,
      "outputs": [
        {
          "output_type": "execute_result",
          "data": {
            "text/plain": [
              "array([-5.00000000e+00, -4.90000000e+00, -4.80000000e+00, -4.70000000e+00,\n",
              "       -4.60000000e+00, -4.50000000e+00, -4.40000000e+00, -4.30000000e+00,\n",
              "       -4.20000000e+00, -4.10000000e+00, -4.00000000e+00, -3.90000000e+00,\n",
              "       -3.80000000e+00, -3.70000000e+00, -3.60000000e+00, -3.50000000e+00,\n",
              "       -3.40000000e+00, -3.30000000e+00, -3.20000000e+00, -3.10000000e+00,\n",
              "       -3.00000000e+00, -2.90000000e+00, -2.80000000e+00, -2.70000000e+00,\n",
              "       -2.60000000e+00, -2.50000000e+00, -2.40000000e+00, -2.30000000e+00,\n",
              "       -2.20000000e+00, -2.10000000e+00, -2.00000000e+00, -1.90000000e+00,\n",
              "       -1.80000000e+00, -1.70000000e+00, -1.60000000e+00, -1.50000000e+00,\n",
              "       -1.40000000e+00, -1.30000000e+00, -1.20000000e+00, -1.10000000e+00,\n",
              "       -1.00000000e+00, -9.00000000e-01, -8.00000000e-01, -7.00000000e-01,\n",
              "       -6.00000000e-01, -5.00000000e-01, -4.00000000e-01, -3.00000000e-01,\n",
              "       -2.00000000e-01, -1.00000000e-01, -1.77635684e-14,  1.00000000e-01,\n",
              "        2.00000000e-01,  3.00000000e-01,  4.00000000e-01,  5.00000000e-01,\n",
              "        6.00000000e-01,  7.00000000e-01,  8.00000000e-01,  9.00000000e-01,\n",
              "        1.00000000e+00,  1.10000000e+00,  1.20000000e+00,  1.30000000e+00,\n",
              "        1.40000000e+00,  1.50000000e+00,  1.60000000e+00,  1.70000000e+00,\n",
              "        1.80000000e+00,  1.90000000e+00,  2.00000000e+00,  2.10000000e+00,\n",
              "        2.20000000e+00,  2.30000000e+00,  2.40000000e+00,  2.50000000e+00,\n",
              "        2.60000000e+00,  2.70000000e+00,  2.80000000e+00,  2.90000000e+00,\n",
              "        3.00000000e+00,  3.10000000e+00,  3.20000000e+00,  3.30000000e+00,\n",
              "        3.40000000e+00,  3.50000000e+00,  3.60000000e+00,  3.70000000e+00,\n",
              "        3.80000000e+00,  3.90000000e+00,  4.00000000e+00,  4.10000000e+00,\n",
              "        4.20000000e+00,  4.30000000e+00,  4.40000000e+00,  4.50000000e+00,\n",
              "        4.60000000e+00,  4.70000000e+00,  4.80000000e+00,  4.90000000e+00])"
            ]
          },
          "metadata": {},
          "execution_count": 10
        }
      ]
    }
  ]
}