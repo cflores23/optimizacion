{
  "nbformat": 4,
  "nbformat_minor": 0,
  "metadata": {
    "colab": {
      "name": "Simplex_method.ipynb",
      "provenance": [],
      "collapsed_sections": [],
      "authorship_tag": "ABX9TyMLU+f73E8kJWR89jAbBO0D",
      "include_colab_link": true
    },
    "kernelspec": {
      "name": "python3",
      "display_name": "Python 3"
    },
    "language_info": {
      "name": "python"
    }
  },
  "cells": [
    {
      "cell_type": "markdown",
      "metadata": {
        "id": "view-in-github",
        "colab_type": "text"
      },
      "source": [
        "<a href=\"https://colab.research.google.com/github/cflores23/optimizacion/blob/Simplex-method/Simplex_method.ipynb\" target=\"_parent\"><img src=\"https://colab.research.google.com/assets/colab-badge.svg\" alt=\"Open In Colab\"/></a>"
      ]
    },
    {
      "cell_type": "code",
      "source": [
        "import numpy as np"
      ],
      "metadata": {
        "id": "YF-aXch59Rwx"
      },
      "execution_count": null,
      "outputs": []
    },
    {
      "cell_type": "code",
      "source": [
        "gamma=1.5\n",
        "betha=0.5\n",
        "ephsilon=0.003\n",
        "evaluations_dict={}"
      ],
      "metadata": {
        "id": "eHFkYS0w0pnh"
      },
      "execution_count": null,
      "outputs": []
    },
    {
      "cell_type": "code",
      "source": [
        "p_1=np.array((0,0))\n",
        "p_2=np.array((2,0))\n",
        "p_3=np.array((1,1))"
      ],
      "metadata": {
        "id": "XtEXzaWb88oT"
      },
      "execution_count": null,
      "outputs": []
    },
    {
      "cell_type": "code",
      "source": [
        "def evaluate_function(x_1,x_2):\n",
        "  result=((x_1**2)+x_2-11)**2+(x_1+(x_2**2)-7)**2\n",
        "  return result"
      ],
      "metadata": {
        "id": "fGr20HfeyocS"
      },
      "execution_count": null,
      "outputs": []
    },
    {
      "cell_type": "code",
      "source": [
        "x_1=evaluate_function(0,0)\n",
        "evaluations_dict['p_1']=x_1\n",
        "evaluations_dict"
      ],
      "metadata": {
        "colab": {
          "base_uri": "https://localhost:8080/"
        },
        "id": "nEpsr0cU0_Mt",
        "outputId": "27f2ddc7-2058-40fc-c1f4-ae9988d05b78"
      },
      "execution_count": null,
      "outputs": [
        {
          "output_type": "execute_result",
          "data": {
            "text/plain": [
              "{'p_1': 170}"
            ]
          },
          "metadata": {},
          "execution_count": 9
        }
      ]
    },
    {
      "cell_type": "code",
      "execution_count": null,
      "metadata": {
        "colab": {
          "base_uri": "https://localhost:8080/"
        },
        "id": "ePKqinqmyZtk",
        "outputId": "bf6687d8-77c0-4632-aa5b-71f0446882fc"
      },
      "outputs": [
        {
          "output_type": "execute_result",
          "data": {
            "text/plain": [
              "{'p_1': 170, 'p_2': 74}"
            ]
          },
          "metadata": {},
          "execution_count": 10
        }
      ],
      "source": [
        "x_2=evaluate_function(2,0)\n",
        "evaluations_dict['p_2']=x_2\n",
        "evaluations_dict"
      ]
    },
    {
      "cell_type": "code",
      "source": [
        "x_3=evaluate_function(1,1)\n",
        "evaluations_dict['p_3']=x_3\n",
        "evaluations_dict"
      ],
      "metadata": {
        "colab": {
          "base_uri": "https://localhost:8080/"
        },
        "id": "urpda8np1mxh",
        "outputId": "ef2262e6-2783-49de-9408-819ab3c3406a"
      },
      "execution_count": null,
      "outputs": [
        {
          "output_type": "execute_result",
          "data": {
            "text/plain": [
              "{'p_1': 170, 'p_2': 74, 'p_3': 106}"
            ]
          },
          "metadata": {},
          "execution_count": 11
        }
      ]
    },
    {
      "cell_type": "code",
      "source": [
        "sortedDict = sorted(evaluations_dict.items(), key=lambda x: x[1])\n",
        "sortedDict"
      ],
      "metadata": {
        "colab": {
          "base_uri": "https://localhost:8080/"
        },
        "id": "n9xltBJn788f",
        "outputId": "fdf756b9-edb6-455a-a781-e743220290a5"
      },
      "execution_count": null,
      "outputs": [
        {
          "output_type": "execute_result",
          "data": {
            "text/plain": [
              "[('p_2', 74), ('p_3', 106), ('p_1', 170)]"
            ]
          },
          "metadata": {},
          "execution_count": 12
        }
      ]
    },
    {
      "cell_type": "code",
      "source": [
        "#print(next(iter(sortedDict)))\n",
        "best=sortedDict[0][0]\n",
        "if best == 'p_2':\n",
        "  best = p_2\n",
        "if best == 'p_1':\n",
        "  best = p_1\n",
        "if best == 'p_3':\n",
        "  best = p_3\n",
        "best"
      ],
      "metadata": {
        "id": "oxsKgS0u436i",
        "colab": {
          "base_uri": "https://localhost:8080/"
        },
        "outputId": "b3031529-5c86-41bd-bf01-f079c996a969"
      },
      "execution_count": null,
      "outputs": [
        {
          "output_type": "stream",
          "name": "stderr",
          "text": [
            "/usr/local/lib/python3.7/dist-packages/ipykernel_launcher.py:5: FutureWarning: elementwise comparison failed; returning scalar instead, but in the future will perform elementwise comparison\n",
            "  \"\"\"\n",
            "/usr/local/lib/python3.7/dist-packages/ipykernel_launcher.py:7: FutureWarning: elementwise comparison failed; returning scalar instead, but in the future will perform elementwise comparison\n",
            "  import sys\n"
          ]
        },
        {
          "output_type": "execute_result",
          "data": {
            "text/plain": [
              "array([2, 0])"
            ]
          },
          "metadata": {},
          "execution_count": 13
        }
      ]
    },
    {
      "cell_type": "code",
      "source": [
        "worst=sortedDict[2][0]\n",
        "if worst == 'p_2':\n",
        "  worst = p_2\n",
        "if worst == 'p_1':\n",
        "  worst = p_1\n",
        "if worst == 'p_3':\n",
        "  worst = p_3\n",
        "worst"
      ],
      "metadata": {
        "colab": {
          "base_uri": "https://localhost:8080/"
        },
        "id": "VOM387OEUvWN",
        "outputId": "707841d2-12e2-4271-ea15-47f53efd75a0"
      },
      "execution_count": null,
      "outputs": [
        {
          "output_type": "stream",
          "name": "stderr",
          "text": [
            "/usr/local/lib/python3.7/dist-packages/ipykernel_launcher.py:6: FutureWarning: elementwise comparison failed; returning scalar instead, but in the future will perform elementwise comparison\n",
            "  \n"
          ]
        },
        {
          "output_type": "execute_result",
          "data": {
            "text/plain": [
              "array([0, 0])"
            ]
          },
          "metadata": {},
          "execution_count": 14
        }
      ]
    },
    {
      "cell_type": "code",
      "source": [
        "second_worst=sortedDict[1][0]\n",
        "if second_worst == 'p_2':\n",
        "  second_worst = p_2\n",
        "if second_worst == 'p_1':\n",
        "  second_worst = p_1\n",
        "if second_worst == 'p_3':\n",
        "  second_worst = p_3\n",
        "second_worst"
      ],
      "metadata": {
        "colab": {
          "base_uri": "https://localhost:8080/"
        },
        "id": "i8jF4K1QfVOR",
        "outputId": "1ec6d08a-d1ef-48f5-e17b-3fe02c134d10"
      },
      "execution_count": null,
      "outputs": [
        {
          "output_type": "execute_result",
          "data": {
            "text/plain": [
              "array([1, 1])"
            ]
          },
          "metadata": {},
          "execution_count": 15
        }
      ]
    },
    {
      "cell_type": "markdown",
      "source": [
        "Cálculo del centroide"
      ],
      "metadata": {
        "id": "SHIcJoyifkOH"
      }
    },
    {
      "cell_type": "code",
      "source": [
        "x_c = (best+second_worst)/2\n",
        "x_c"
      ],
      "metadata": {
        "colab": {
          "base_uri": "https://localhost:8080/"
        },
        "id": "w8QACv9bfnsF",
        "outputId": "078c3e92-2614-437c-f607-fd007d2fc908"
      },
      "execution_count": null,
      "outputs": [
        {
          "output_type": "execute_result",
          "data": {
            "text/plain": [
              "array([1.5, 0.5])"
            ]
          },
          "metadata": {},
          "execution_count": 16
        }
      ]
    },
    {
      "cell_type": "markdown",
      "source": [
        "Calcular el punto reflejado:"
      ],
      "metadata": {
        "id": "DS5EnNacgPDW"
      }
    },
    {
      "cell_type": "code",
      "source": [
        "x_r = 2*(x_c)-worst\n",
        "x_r"
      ],
      "metadata": {
        "colab": {
          "base_uri": "https://localhost:8080/"
        },
        "id": "qz5_7VgXgMO3",
        "outputId": "5558e2df-b471-48fb-c1d5-cabde99be407"
      },
      "execution_count": null,
      "outputs": [
        {
          "output_type": "execute_result",
          "data": {
            "text/plain": [
              "array([3., 1.])"
            ]
          },
          "metadata": {},
          "execution_count": 17
        }
      ]
    },
    {
      "cell_type": "code",
      "source": [
        "fDeX_r = evaluate_function_vector(x_r)\n",
        "fDeX_r"
      ],
      "metadata": {
        "colab": {
          "base_uri": "https://localhost:8080/"
        },
        "id": "ing3cZn4heoD",
        "outputId": "5fcbc7fa-5d74-40cc-f92e-ae7018d53e04"
      },
      "execution_count": null,
      "outputs": [
        {
          "output_type": "execute_result",
          "data": {
            "text/plain": [
              "10.0"
            ]
          },
          "metadata": {},
          "execution_count": 18
        }
      ]
    },
    {
      "cell_type": "markdown",
      "source": [
        "Obtener nuevo punto"
      ],
      "metadata": {
        "id": "2clNbz7lh7EJ"
      }
    },
    {
      "cell_type": "code",
      "source": [
        "x_l = sortedDict[0][1]\n",
        "x_g = sortedDict[1][1]\n",
        "x_h = sortedDict[2][1]\n",
        "x_l"
      ],
      "metadata": {
        "colab": {
          "base_uri": "https://localhost:8080/"
        },
        "id": "JJR3e6Qfk7_g",
        "outputId": "ffce85ac-3b64-4441-d79f-e931e7839d83"
      },
      "execution_count": null,
      "outputs": [
        {
          "output_type": "execute_result",
          "data": {
            "text/plain": [
              "74"
            ]
          },
          "metadata": {},
          "execution_count": 19
        }
      ]
    },
    {
      "cell_type": "code",
      "source": [
        "if fDeX_r < x_l:\n",
        "  x_new = (1+gamma)*x_c - (gamma*worst)\n",
        "if fDeX_r >= x_h:\n",
        "  x_new = (1-betha)*x_c + (betha*worst)\n",
        "if x_g < fDeX_r < x_h:\n",
        "  x_new = (1+betha)*x_c - (betha*worst)\n",
        "\n",
        "x_new"
      ],
      "metadata": {
        "colab": {
          "base_uri": "https://localhost:8080/"
        },
        "id": "y7Tjl6axh30o",
        "outputId": "c463183b-9a69-4eb7-d7e6-4ab9913cb6cf"
      },
      "execution_count": null,
      "outputs": [
        {
          "output_type": "execute_result",
          "data": {
            "text/plain": [
              "array([3.75, 1.25])"
            ]
          },
          "metadata": {},
          "execution_count": 20
        }
      ]
    },
    {
      "cell_type": "code",
      "source": [
        "fDeX_new = evaluate_function_vector(x_new)\n",
        "fDeX_new"
      ],
      "metadata": {
        "colab": {
          "base_uri": "https://localhost:8080/"
        },
        "id": "ANc4OLDoyxSg",
        "outputId": "fa0c7be2-32c5-46c6-a99d-794546e017cd"
      },
      "execution_count": null,
      "outputs": [
        {
          "output_type": "execute_result",
          "data": {
            "text/plain": [
              "21.4453125"
            ]
          },
          "metadata": {},
          "execution_count": 21
        }
      ]
    },
    {
      "cell_type": "markdown",
      "source": [
        "Calcular la condición de paro"
      ],
      "metadata": {
        "id": "bP_4biL7eUFc"
      }
    },
    {
      "cell_type": "code",
      "source": [
        "#fDeX_i = evaluate_function_vector(best)\n",
        "#fDeX_i\n",
        "fDeC = evaluate_function_vector(x_c)\n",
        "fDeC"
      ],
      "metadata": {
        "colab": {
          "base_uri": "https://localhost:8080/"
        },
        "id": "YGW59c3-eRqu",
        "outputId": "1e050646-4d25-4b49-a709-d1505ce1fee0"
      },
      "execution_count": null,
      "outputs": [
        {
          "output_type": "execute_result",
          "data": {
            "text/plain": [
              "95.625"
            ]
          },
          "metadata": {},
          "execution_count": 22
        }
      ]
    },
    {
      "cell_type": "code",
      "source": [
        "c_paro = np.sqrt((((fDeX_new-fDeC)**2)/3)+(((x_2-fDeC)**2)/3))\n",
        "#condition = np.sqrt((((x_1-fDeC)**2)/3)+(((x_2-fDeC)**2)/3))\n",
        "#condition"
      ],
      "metadata": {
        "id": "X7I7khXeowZX"
      },
      "execution_count": null,
      "outputs": []
    },
    {
      "cell_type": "markdown",
      "source": [
        "##Esta es la implementación iterativa"
      ],
      "metadata": {
        "id": "H4Vt9EAq-z_d"
      }
    },
    {
      "cell_type": "code",
      "source": [
        "import numpy as np"
      ],
      "metadata": {
        "id": "4Jiv0_94heSW"
      },
      "execution_count": 16,
      "outputs": []
    },
    {
      "cell_type": "code",
      "source": [
        "def evaluate_function_vector(punto):\n",
        "  result=((punto[0]**2)+punto[1]-11)**2+(punto[0]+(punto[1]**2)-7)**2\n",
        "  return result"
      ],
      "metadata": {
        "id": "IQbNG-ahhCC1"
      },
      "execution_count": 17,
      "outputs": []
    },
    {
      "cell_type": "code",
      "source": [
        "gamma=1.5\n",
        "betha=0.5\n",
        "ephsilon=40\n",
        "evaluations_dict={}"
      ],
      "metadata": {
        "id": "EDSix3BT1Rsw"
      },
      "execution_count": 22,
      "outputs": []
    },
    {
      "cell_type": "code",
      "source": [
        "q = ephsilon\n",
        "iteration = 1\n",
        "p_1=np.array((0,0))\n",
        "p_2=np.array((2,0))\n",
        "p_3=np.array((1,1))\n",
        "while q >= ephsilon:\n",
        "  print(\"Iteración \"+str(iteration)+\"*********************************************\")\n",
        "  x_1=evaluate_function_vector(p_1)\n",
        "  evaluations_dict['p_1']=x_1\n",
        "  x_2=evaluate_function_vector(p_2)\n",
        "  evaluations_dict['p_2']=x_2\n",
        "  x_3=evaluate_function_vector(p_3)\n",
        "  evaluations_dict['p_3']=x_3\n",
        "  sortedDict = sorted(evaluations_dict.items(), key=lambda x: x[1])\n",
        "  print(sortedDict)\n",
        "  best=sortedDict[0][0]\n",
        "  if best == 'p_2':\n",
        "    best = p_2\n",
        "  if best == 'p_1':\n",
        "    best = p_1\n",
        "  if best == 'p_3':\n",
        "    best = p_3\n",
        "  print(\"Mejor \"+str(best))\n",
        "  worst=sortedDict[2][0]\n",
        "  if worst == 'p_2':\n",
        "    worst = p_2\n",
        "  if worst == 'p_1':\n",
        "    worst = p_1\n",
        "  if worst == 'p_3':\n",
        "    worst = p_3\n",
        "  print(\"Peor \"+str(worst))\n",
        "  second_worst=sortedDict[1][0]\n",
        "  if second_worst == 'p_2':\n",
        "    second_worst = p_2\n",
        "  if second_worst == 'p_1':\n",
        "    second_worst = p_1\n",
        "  if second_worst == 'p_3':\n",
        "    second_worst = p_3\n",
        "  print(\"Segundo Peor \"+str(second_worst))\n",
        "  x_c = (best+second_worst)/2\n",
        "  print(\"Centroide \"+str(x_c))\n",
        "  x_r = 2*(x_c)-worst\n",
        "  print(\"x_r \"+str(x_r))\n",
        "  fDeX_r = evaluate_function_vector(x_r)\n",
        "  print(\"fDeX_r \"+str(fDeX_r))\n",
        "  x_l = sortedDict[0][1]\n",
        "  x_g = sortedDict[1][1]\n",
        "  x_h = sortedDict[2][1]\n",
        "  x_l\n",
        "  if fDeX_r < x_l:\n",
        "    x_new = (1+gamma)*x_c - (gamma*worst)\n",
        "  if fDeX_r >= x_h:\n",
        "    x_new = (1-betha)*x_c + (betha*worst)\n",
        "  if x_g < fDeX_r < x_h:\n",
        "    x_new = (1+betha)*x_c - (betha*worst)\n",
        "  fDeX_new = evaluate_function_vector(x_new)\n",
        "  fDeX_new\n",
        "  fDeC = evaluate_function_vector(x_c)\n",
        "  print(\"fDeC \"+str(fDeC))\n",
        "  q = np.sqrt((((x_1-fDeC)**2)/3)+(((x_2-fDeC)**2)/3)+(((x_3-fDeC)**2)/3))\n",
        "  p_1 = x_new\n",
        "  p_2 = best\n",
        "  p_3 = second_worst\n",
        "  iteration = iteration+1\n",
        "  print(\"X_new \"+str(x_new))\n",
        "  print(q)\n",
        "\n",
        "print(\"Mejor solución \"+str(x_new)+ \"Valor de la función en este punto \"+str(fDeX_new))"
      ],
      "metadata": {
        "colab": {
          "base_uri": "https://localhost:8080/"
        },
        "id": "7YF_c81g98Ib",
        "outputId": "a894b392-f963-4b37-a43a-1f10dfeaff30"
      },
      "execution_count": 23,
      "outputs": [
        {
          "output_type": "stream",
          "name": "stdout",
          "text": [
            "Iteración 1*********************************************\n",
            "[('p_2', 74), ('p_3', 106), ('p_1', 170)]\n",
            "Mejor [2 0]\n",
            "Peor [0 0]\n",
            "Segundo Peor [1 1]\n",
            "Centroide [1.5 0.5]\n",
            "x_r [3. 1.]\n",
            "fDeX_r 10.0\n",
            "fDeC 95.625\n",
            "X_new [3.75 1.25]\n",
            "45.11807426076605\n",
            "Iteración 2*********************************************\n",
            "[('p_1', 21.4453125), ('p_2', 74), ('p_3', 106)]\n",
            "Mejor [3.75 1.25]\n",
            "Peor [1 1]\n",
            "Segundo Peor [2 0]\n",
            "Centroide [2.875 0.625]\n",
            "x_r [4.75 0.25]\n",
            "fDeX_r 144.3203125\n",
            "fDeC 18.39501953125\n",
            "X_new [1.9375 0.8125]\n",
            "59.932881189586695\n",
            "Iteración 3*********************************************\n",
            "[('p_2', 21.4453125), ('p_1', 60.771759033203125), ('p_3', 74)]\n",
            "Mejor [3.75 1.25]\n",
            "Peor [2 0]\n",
            "Segundo Peor [1.9375 0.8125]\n",
            "Centroide [2.84375 1.03125]\n",
            "x_r [3.6875 2.0625]\n",
            "fDeX_r 22.603302001953125\n",
            "fDeC 13.10655403137207\n",
            "X_new [1.9375 0.8125]\n",
            "44.9055246140862\n",
            "Iteración 4*********************************************\n",
            "[('p_2', 21.4453125), ('p_1', 60.771759033203125), ('p_3', 60.771759033203125)]\n",
            "Mejor [3.75 1.25]\n",
            "Peor [1.9375 0.8125]\n",
            "Segundo Peor [1.9375 0.8125]\n",
            "Centroide [2.84375 1.03125]\n",
            "x_r [3.75 1.25]\n",
            "fDeX_r 21.4453125\n",
            "fDeC 13.10655403137207\n",
            "X_new [1.9375 0.8125]\n",
            "39.21512645451699\n",
            "Mejor solución [1.9375 0.8125]Valor de la función en este punto 60.771759033203125\n"
          ]
        },
        {
          "output_type": "stream",
          "name": "stderr",
          "text": [
            "/usr/local/lib/python3.7/dist-packages/ipykernel_launcher.py:19: FutureWarning: elementwise comparison failed; returning scalar instead, but in the future will perform elementwise comparison\n",
            "/usr/local/lib/python3.7/dist-packages/ipykernel_launcher.py:21: FutureWarning: elementwise comparison failed; returning scalar instead, but in the future will perform elementwise comparison\n",
            "/usr/local/lib/python3.7/dist-packages/ipykernel_launcher.py:29: FutureWarning: elementwise comparison failed; returning scalar instead, but in the future will perform elementwise comparison\n",
            "/usr/local/lib/python3.7/dist-packages/ipykernel_launcher.py:35: FutureWarning: elementwise comparison failed; returning scalar instead, but in the future will perform elementwise comparison\n",
            "/usr/local/lib/python3.7/dist-packages/ipykernel_launcher.py:37: FutureWarning: elementwise comparison failed; returning scalar instead, but in the future will perform elementwise comparison\n"
          ]
        }
      ]
    }
  ]
}