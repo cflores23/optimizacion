{
  "nbformat": 4,
  "nbformat_minor": 0,
  "metadata": {
    "colab": {
      "provenance": [],
      "collapsed_sections": [],
      "authorship_tag": "ABX9TyPganBplfGUBF4UB8FyfMWm",
      "include_colab_link": true
    },
    "kernelspec": {
      "name": "python3",
      "display_name": "Python 3"
    },
    "language_info": {
      "name": "python"
    }
  },
  "cells": [
    {
      "cell_type": "markdown",
      "metadata": {
        "id": "view-in-github",
        "colab_type": "text"
      },
      "source": [
        "<a href=\"https://colab.research.google.com/github/cflores23/optimizacion/blob/main/RecocidoSimulado_LBSA.ipynb\" target=\"_parent\"><img src=\"https://colab.research.google.com/assets/colab-badge.svg\" alt=\"Open In Colab\"/></a>"
      ]
    },
    {
      "cell_type": "markdown",
      "source": [
        "## Implementación del algoritmo Recicido sumulado basado en listas (LBSA, por sus siglas en inglés) para el problema de TSP.\n",
        "\n",
        "Referencia:\n",
        "\n",
        "S.-h. Zhan, J. Lin, Z.-j. Zhang y Y.-w. Zhong, \"List-Based Simulated Annealing Algorithm for Traveling Salesman Problem\", Computational Intelligence and Neuroscience, vol. 2016, pp. 1–12, 2016. Accedido el 08 de noviembre de 2022. [En línea]. Disponible: https://doi.org/10.1155/2016/1712630"
      ],
      "metadata": {
        "id": "crps8N9rcbPW"
      }
    },
    {
      "cell_type": "code",
      "source": [
        "#esta celda se debe programar en un futuro para usarla cuando los grafos sean \n",
        "#no dirigidos, es decir, generalizar el algoritmo para otro tipo de problemas \n",
        "\n",
        "#verificad si dos nodos son adyacentes\n",
        "def adyac(nodo, edg, is_fact):\n",
        "  city_start = nodo[0][0]\n",
        "  city_end = nodo[0][1]\n",
        "  for i in range(len(edg)):\n",
        "    if city_start == edg[i][0] and city_start == edg[i][1]:\n",
        "      is_fact = True\n",
        "      break\n",
        "  return is_fact"
      ],
      "metadata": {
        "id": "trqBEhzLZn8a"
      },
      "execution_count": 61,
      "outputs": []
    },
    {
      "cell_type": "code",
      "source": [
        "import random \n",
        "import numpy as np\n",
        "import matplotlib.pyplot as plt"
      ],
      "metadata": {
        "id": "JWNU3KgO_-cU"
      },
      "execution_count": 1,
      "outputs": []
    },
    {
      "cell_type": "code",
      "source": [
        "#Generar soluciones factibles\n",
        "def gen_sol(n,edg):\n",
        "  cand_sol = []\n",
        "  #is_fact = False\n",
        "  node = []\n",
        "  #while is_fact == False:\n",
        "  for i in range(n):\n",
        "    cand_sol.append(i+1)\n",
        "    #se crea una permutación\n",
        "  random.shuffle(cand_sol)\n",
        "  #city_inic = cand_sol[0]\n",
        "  #cand_sol.append(city_inic)\n",
        "    #verificar si la permutación es factible\n",
        "    #for i in range(n-2):\n",
        "     # node.append((cand_sol[i],cand_sol[i+1]))\n",
        "      #is_fact = adyac(node,edg,is_fact)\n",
        "  return cand_sol\n",
        "  "
      ],
      "metadata": {
        "id": "MFcliiS4A7vn"
      },
      "execution_count": 2,
      "outputs": []
    },
    {
      "cell_type": "code",
      "source": [
        "def evaluar_funcion(sol, ejes):\n",
        "  tot_ruta=0\n",
        "  for i in range(len(sol)-1):\n",
        "    city1 = sol[i]\n",
        "    city2 = sol[i+1]\n",
        "    for j in range(len(ejes)):\n",
        "      if ejes[j][0] == city1 and ejes[j][1] == city2:\n",
        "        tot_ruta=tot_ruta+ejes[j][2]\n",
        "  return tot_ruta"
      ],
      "metadata": {
        "id": "cmp05NkX4yQm"
      },
      "execution_count": 3,
      "outputs": []
    },
    {
      "cell_type": "code",
      "source": [
        "#Producir lista inicial de temperaturas\n",
        "def list_temp(sol, n, edges,p):\n",
        "  sol_vec = sol.copy()\n",
        "  #print(str(sol_vec))\n",
        "  temperaturas_list = []\n",
        "  i=0\n",
        "  while i < n:\n",
        "    #generar una solución candidata aleatoria vecina\n",
        "    num_cambiar1 = random.randint(0,n-1)\n",
        "    num_cambiar2 = num_cambiar1\n",
        "    while num_cambiar2 == num_cambiar1:   #para evitar que se repitan los números aleatorios\n",
        "      num_cambiar2 = random.randint(0,n-1)\n",
        "    num_paso = sol_vec[num_cambiar1]\n",
        "    sol_vec[num_cambiar1] = sol_vec[num_cambiar2]\n",
        "    sol_vec[num_cambiar2] = num_paso\n",
        "    #print(num_cambiar1)\n",
        "    #print(str(num_cambiar2))\n",
        "    #evaluar las funciones objetivo\n",
        "    val_f_actual = evaluar_funcion(sol, edges)\n",
        "    #print(\"Val actual\")\n",
        "    #print(val_f_actual)\n",
        "    val_f_vec = evaluar_funcion(sol_vec,edges)\n",
        "    #print(\"Val vecina\")\n",
        "    #print(val_f_vec)\n",
        "    #print(str(sol_vec))\n",
        "    if val_f_vec < val_f_actual:\n",
        "      sol = sol_vec.copy()\n",
        "      #print(\"nueva sol actual\")\n",
        "      #print(str(sol))\n",
        "    dif = -(abs(val_f_vec - val_f_actual))\n",
        "    log = np.log(p)\n",
        "    #print(dif/log)\n",
        "    t = -(abs(val_f_vec - val_f_actual))/np.log(p)\n",
        "    #print(\"Temperatura\")\n",
        "    #print(t)\n",
        "    temperaturas_list.append(t)\n",
        "    i+=1\n",
        "  return temperaturas_list\n"
      ],
      "metadata": {
        "id": "npRtdnhKAbW9"
      },
      "execution_count": 39,
      "outputs": []
    },
    {
      "cell_type": "code",
      "source": [
        "#Lista de adyacencia para representar el grafo ponderado\n",
        "num_ciudades = 4\n",
        "edges = [(1, 2, 10), (1, 3, 15), (1, 4, 20), (2, 3, 35),\n",
        "            (2, 4, 25), (3, 4, 30),(2,1,10),(3,1,15),\n",
        "            (4,1,20),(3,2,35),(4,2,25),(4,3,30)]\n",
        "vals_rutas = []\n",
        "\n",
        "\n",
        "#crear la lista de temperaturas \n",
        "sol_actual = gen_sol(num_ciudades, edges)\n",
        "tam_list_temp = num_ciudades\n",
        "p_0 = 0.99\n",
        "i=0\n",
        "print(\"Solución inicial: \")\n",
        "print(str(sol_actual))\n",
        "Lt = list_temp(sol_actual, tam_list_temp,edges,p_0)\n",
        "Lt.sort(reverse=True)\n",
        "print(str(Lt))\n",
        "\n",
        "#algoritmo Recocido simulado \n",
        "K_max = 10\n",
        "M = 10\n",
        "k =0\n",
        "sol_cand = []\n",
        "while k <= K_max:\n",
        "  temp = Lt[0]\n",
        "  k+=1\n",
        "  t=0\n",
        "  c=0\n",
        "  m=0\n",
        "  while m < M:\n",
        "    sol_cand = sol_actual.copy()\n",
        "    num_cambiar1 = random.randint(0,num_ciudades-1)\n",
        "    num_cambiar2 = num_cambiar1\n",
        "    while num_cambiar1 == num_cambiar2:\n",
        "      num_cambiar1 = random.randint(0,num_ciudades-1)\n",
        "    num_paso = sol_cand[num_cambiar1]\n",
        "    sol_cand[num_cambiar1] = sol_cand[num_cambiar2]\n",
        "    sol_cand[num_cambiar2] = num_paso\n",
        "    #print(str(sol_cand))\n",
        "    #incrementamos Markov\n",
        "    m+=1\n",
        "    #evaluar las funciones objetivo\n",
        "    val_f_actual = evaluar_funcion(sol_actual, edges)\n",
        "    val_f_cand = evaluar_funcion(sol_cand,edges)\n",
        "    #print(\"Val actual \")\n",
        "    #print(val_f_actual)\n",
        "    #print(\"Val candi\")\n",
        "    #print(val_f_cand)\n",
        "    \n",
        "    if val_f_cand < val_f_actual:\n",
        "      sol_actual = sol_cand.copy()\n",
        "    #print(str(Lt))\n",
        "    t_max = Lt[0]\n",
        "    #print(\"dif\")\n",
        "    dif = -(val_f_cand - val_f_actual)\n",
        "    #print(dif)\n",
        "    expo = np.exp(dif/t_max)\n",
        "    #print('expon ')\n",
        "    #print(expo)\n",
        "    p = np.exp(dif/t_max)\n",
        "    r = random.random()\n",
        "    if r < p:\n",
        "      t = t - (val_f_cand - val_f_actual)/np.log(r)\n",
        "      c+=1\n",
        "  \n",
        "  if c != 0:\n",
        "    Lt.append(t)\n",
        "    t = t/c\n",
        "    Lt.append(t)\n",
        "    Lt.sort(reverse=True)\n",
        "    #print(str(Lt))\n",
        "  vals_rutas.append(val_f_actual)\n",
        "print(\"La mejor solución encontrada: \") \n",
        "print(str(sol_actual))\n",
        "print(\"Valor de la trayectoria: \")\n",
        "print(val_f_actual)\n"
      ],
      "metadata": {
        "colab": {
          "base_uri": "https://localhost:8080/"
        },
        "id": "5WdumcG09IXR",
        "outputId": "b1372bec-351b-430a-a32e-edbbb7105493"
      },
      "execution_count": 59,
      "outputs": [
        {
          "output_type": "stream",
          "name": "stdout",
          "text": [
            "Solución inicial: \n",
            "[2, 4, 1, 3]\n",
            "[1492.4874371013311, 994.9916247342207, -0.0, -0.0]\n",
            "La mejor solución encontrada: \n",
            "[4, 2, 1, 3]\n",
            "Valor de la trayectoria: \n",
            "50\n"
          ]
        }
      ]
    },
    {
      "cell_type": "code",
      "source": [
        "gen = []\n",
        "for i in range(len(vals_rutas)):\n",
        "  gen.append(i)\n",
        "plt.plot(gen,vals_rutas)"
      ],
      "metadata": {
        "colab": {
          "base_uri": "https://localhost:8080/",
          "height": 283
        },
        "id": "um2S_4vtzRJr",
        "outputId": "71d26c80-75a5-4774-c460-d295ebc5ce3b"
      },
      "execution_count": 60,
      "outputs": [
        {
          "output_type": "execute_result",
          "data": {
            "text/plain": [
              "[<matplotlib.lines.Line2D at 0x7fbfce544a10>]"
            ]
          },
          "metadata": {},
          "execution_count": 60
        },
        {
          "output_type": "display_data",
          "data": {
            "text/plain": [
              "<Figure size 432x288 with 1 Axes>"
            ],
            "image/png": "[encoded data removed]"
          },
          "metadata": {
            "needs_background": "light"
          }
        }
      ]
    },
    {
      "cell_type": "markdown",
      "source": [
        "Sector de aplicación: \n",
        "\n",
        "La implementación de TSP es un problema clásico de optimización. Se puede aplicar a sectores como el logístico, en la planeación de rutas, por ejemplo Google maps, o una aplicación que muestre justo la trayectoria que debe seguir una persona, tratando de minimizar la distancia y tiempo del recorrido.\n",
        "\n",
        "Otra aplicación puede ser la planificación de eventos que representen estados, y estos a su vez se puedan representar mediante grafos, al tratar de encontrar la trayectoria, que minimice un costo. Por ejemplo, en el caso donde haya un número de tareas y n procesadores. Planificar las tareas de tal manera que se minimice el tiempo de ejecución."
      ],
      "metadata": {
        "id": "coxYf7DMOfnM"
      }
    }
  ]
}