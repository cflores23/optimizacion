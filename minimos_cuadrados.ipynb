{
  "nbformat": 4,
  "nbformat_minor": 0,
  "metadata": {
    "colab": {
      "name": "minimos_cuadrados.ipynb",
      "provenance": [],
      "authorship_tag": "ABX9TyNgJyDDaBYbUCLMNLag2MVe",
      "include_colab_link": true
    },
    "kernelspec": {
      "name": "python3",
      "display_name": "Python 3"
    },
    "language_info": {
      "name": "python"
    }
  },
  "cells": [
    {
      "cell_type": "markdown",
      "metadata": {
        "id": "view-in-github",
        "colab_type": "text"
      },
      "source": [
        "<a href=\"https://colab.research.google.com/github/cflores23/optimizacion/blob/main/minimos_cuadrados.ipynb\" target=\"_parent\"><img src=\"https://colab.research.google.com/assets/colab-badge.svg\" alt=\"Open In Colab\"/></a>"
      ]
    },
    {
      "cell_type": "markdown",
      "source": [
        "##Método de mímimos cuadrados para ajustar una función cuadrática a un conjunto de datos"
      ],
      "metadata": {
        "id": "B6pW2NAKRuAK"
      }
    },
    {
      "cell_type": "markdown",
      "source": [
        "Consiste en determinar la curva que mejor se ajuste a los puntos dados, para ello se determinarán los coeficientes que satisfagan a las ecuaciones normales: a0, a1 y a2 de la ecuación:\n",
        "\n",
        "y = a_0 + a_1x + a_2x^2"
      ],
      "metadata": {
        "id": "lrxglu-EUQhy"
      }
    },
    {
      "cell_type": "code",
      "source": [
        "import numpy as np\n",
        "import random as ran\n",
        "import pylab as plt\n",
        "num_puntos = input(\"Por favor ingrese el número de puntos: \")"
      ],
      "metadata": {
        "colab": {
          "base_uri": "https://localhost:8080/"
        },
        "id": "9JNzr2JoVUuf",
        "outputId": "4cee8fe8-4e69-437b-de48-76f47b0c6da6"
      },
      "execution_count": 83,
      "outputs": [
        {
          "name": "stdout",
          "output_type": "stream",
          "text": [
            "Por favor ingrese el número de puntos: 5\n"
          ]
        }
      ]
    },
    {
      "cell_type": "code",
      "source": [
        "num_puntos = int(num_puntos)\n",
        "a = np.zeros([num_puntos,3])\n",
        "b = np.zeros([num_puntos,1])\n",
        "x = np.zeros([num_puntos,1])\n",
        "y = np.zeros([num_puntos,1])\n",
        "\n",
        "for i in range(num_puntos):\n",
        "  ord=input('Ingrese la ordenada')\n",
        "  absi=input('Ingrese la absisa')\n",
        "  ord=int(ord)\n",
        "  absi=int(absi)\n",
        "  a[i,0] = 1\n",
        "  a[i,1] = ord\n",
        "  a[i,2] = ord**2\n",
        "  b[i,0] = absi\n",
        "  x[i] = ord\n",
        "  y[i] = absi\n",
        "  \n",
        "print(a)\n",
        "print(b)"
      ],
      "metadata": {
        "colab": {
          "base_uri": "https://localhost:8080/"
        },
        "id": "oUeUCnoNYt1I",
        "outputId": "5630589e-b42c-4328-af0f-157ee4d834e9"
      },
      "execution_count": 86,
      "outputs": [
        {
          "output_type": "stream",
          "name": "stdout",
          "text": [
            "Ingrese la ordenada0\n",
            "Ingrese la absisa200\n",
            "Ingrese la ordenada1\n",
            "Ingrese la absisa195\n",
            "Ingrese la ordenada2\n",
            "Ingrese la absisa180\n",
            "Ingrese la ordenada4\n",
            "Ingrese la absisa120\n",
            "Ingrese la ordenada6\n",
            "Ingrese la absisa25\n",
            "[[ 1.  0.  0.]\n",
            " [ 1.  1.  1.]\n",
            " [ 1.  2.  4.]\n",
            " [ 1.  4. 16.]\n",
            " [ 1.  6. 36.]]\n",
            "[[200.]\n",
            " [195.]\n",
            " [180.]\n",
            " [120.]\n",
            " [ 25.]]\n"
          ]
        }
      ]
    },
    {
      "cell_type": "markdown",
      "source": [
        "##Graficando los puntos"
      ],
      "metadata": {
        "id": "KMDxMOgE6Lfk"
      }
    },
    {
      "cell_type": "code",
      "source": [
        "plt.plot(x,y,'o')"
      ],
      "metadata": {
        "colab": {
          "base_uri": "https://localhost:8080/",
          "height": 282
        },
        "id": "85kCKP4C6K-U",
        "outputId": "d8274787-422d-4fb5-98d2-7e08ef7e8e91"
      },
      "execution_count": 87,
      "outputs": [
        {
          "output_type": "execute_result",
          "data": {
            "text/plain": [
              "[<matplotlib.lines.Line2D at 0x7f0ca7cf0b10>]"
            ]
          },
          "metadata": {},
          "execution_count": 87
        },
        {
          "output_type": "display_data",
          "data": {
            "image/png": "[encoded data removed]",
            "text/plain": [
              "<Figure size 432x288 with 1 Axes>"
            ]
          },
          "metadata": {
            "needs_background": "light"
          }
        }
      ]
    },
    {
      "cell_type": "code",
      "source": [
        "at = np.transpose(a)\n",
        "at"
      ],
      "metadata": {
        "colab": {
          "base_uri": "https://localhost:8080/"
        },
        "id": "PP02PFVlljEI",
        "outputId": "e43ca574-8002-4e2e-9cc5-1dcc9a403434"
      },
      "execution_count": 88,
      "outputs": [
        {
          "output_type": "execute_result",
          "data": {
            "text/plain": [
              "array([[ 1.,  1.,  1.,  1.,  1.],\n",
              "       [ 0.,  1.,  2.,  4.,  6.],\n",
              "       [ 0.,  1.,  4., 16., 36.]])"
            ]
          },
          "metadata": {},
          "execution_count": 88
        }
      ]
    },
    {
      "cell_type": "code",
      "source": [
        "atpora = np.dot(at,a)\n",
        "atpora"
      ],
      "metadata": {
        "colab": {
          "base_uri": "https://localhost:8080/"
        },
        "id": "0P_pyYjZqMZx",
        "outputId": "27394707-28fd-4b11-f907-da7f990b1507"
      },
      "execution_count": 89,
      "outputs": [
        {
          "output_type": "execute_result",
          "data": {
            "text/plain": [
              "array([[   5.,   13.,   57.],\n",
              "       [  13.,   57.,  289.],\n",
              "       [  57.,  289., 1569.]])"
            ]
          },
          "metadata": {},
          "execution_count": 89
        }
      ]
    },
    {
      "cell_type": "code",
      "source": [
        "inv = np.linalg.inv(atpora)\n",
        "inv"
      ],
      "metadata": {
        "colab": {
          "base_uri": "https://localhost:8080/"
        },
        "id": "bYaB6thq07VJ",
        "outputId": "0d201c29-2a64-49f6-d77f-d08a18878257"
      },
      "execution_count": 90,
      "outputs": [
        {
          "output_type": "execute_result",
          "data": {
            "text/plain": [
              "array([[ 0.78784648, -0.52292111,  0.06769723],\n",
              "       [-0.52292111,  0.61247335, -0.09381663],\n",
              "       [ 0.06769723, -0.09381663,  0.01545842]])"
            ]
          },
          "metadata": {},
          "execution_count": 90
        }
      ]
    },
    {
      "cell_type": "code",
      "source": [
        "invporat = np.dot(inv,at)\n",
        "solucion = np.dot(invporat,b)\n",
        "solucion"
      ],
      "metadata": {
        "colab": {
          "base_uri": "https://localhost:8080/"
        },
        "id": "U9V9m2mi1EIc",
        "outputId": "47cb03ee-bb5e-4f7c-fc7c-8ba87e23b94d"
      },
      "execution_count": 91,
      "outputs": [
        {
          "output_type": "execute_result",
          "data": {
            "text/plain": [
              "array([[200.43710021],\n",
              "       [ -1.12739872],\n",
              "       [ -4.6934968 ]])"
            ]
          },
          "metadata": {},
          "execution_count": 91
        }
      ]
    },
    {
      "cell_type": "code",
      "source": [
        "a0=solucion[0]\n",
        "a1=solucion[1]\n",
        "a2=solucion[2]\n",
        "print('La solución para el coeficiente a0 es:', a0)\n",
        "print('La solución para el coeficiente a1 es:', a1)\n",
        "print('La solución para el coeficiente a2 es:', a2)"
      ],
      "metadata": {
        "colab": {
          "base_uri": "https://localhost:8080/"
        },
        "id": "N5JiZEzH1jHV",
        "outputId": "503541b8-fda6-4dbe-c7c1-5ec81bcb5f0b"
      },
      "execution_count": 92,
      "outputs": [
        {
          "output_type": "stream",
          "name": "stdout",
          "text": [
            "La solución para el coeficiente a0 es: [200.43710021]\n",
            "La solución para el coeficiente a1 es: [-1.12739872]\n",
            "La solución para el coeficiente a2 es: [-4.6934968]\n"
          ]
        }
      ]
    },
    {
      "cell_type": "markdown",
      "source": [
        "Entonces la ecuación que mejor se ajusta a los puntos dados es:"
      ],
      "metadata": {
        "id": "HZwSpgMR2mLT"
      }
    },
    {
      "cell_type": "code",
      "source": [
        "res = str(a0)+'+'+str(a1)+'x_1'+str(a2)+'x_2^2'\n",
        "res"
      ],
      "metadata": {
        "colab": {
          "base_uri": "https://localhost:8080/",
          "height": 35
        },
        "id": "bxDaZnuu2wkB",
        "outputId": "4cba5139-5ce5-44f2-b25a-00c780285713"
      },
      "execution_count": 93,
      "outputs": [
        {
          "output_type": "execute_result",
          "data": {
            "application/vnd.google.colaboratory.intrinsic+json": {
              "type": "string"
            },
            "text/plain": [
              "'[200.43710021]+[-1.12739872]x_1[-4.6934968]x_2^2'"
            ]
          },
          "metadata": {},
          "execution_count": 93
        }
      ]
    },
    {
      "cell_type": "markdown",
      "source": [
        "Intentando graficar la función"
      ],
      "metadata": {
        "id": "YVC8QrHM7qVB"
      }
    },
    {
      "cell_type": "code",
      "source": [
        "def evalua_func(a0,a1,a2,x):\n",
        "  resul = np.zeros([num_puntos,1])\n",
        "  for i in range(len(x)):\n",
        "    resul[i] = a0 + (a1*x[i]) + (a2*(x[i]**2))\n",
        "  resul\n",
        "  return resul"
      ],
      "metadata": {
        "id": "DSTkmqzg7tiL"
      },
      "execution_count": 94,
      "outputs": []
    },
    {
      "cell_type": "code",
      "source": [
        "array_resul = evalua_func(a0,a1,a2,x)\n",
        "plt.plot(x,y,'o')\n",
        "plt.plot(x,array_resul,'-')"
      ],
      "metadata": {
        "colab": {
          "base_uri": "https://localhost:8080/",
          "height": 282
        },
        "id": "XfYldk969Uiy",
        "outputId": "05d39efb-1a9c-4e74-9f30-c97c4dae5a49"
      },
      "execution_count": 95,
      "outputs": [
        {
          "output_type": "execute_result",
          "data": {
            "text/plain": [
              "[<matplotlib.lines.Line2D at 0x7f0ca7c6ebd0>]"
            ]
          },
          "metadata": {},
          "execution_count": 95
        },
        {
          "output_type": "display_data",
          "data": {
            "image/png": "[encoded data removed]",
            "text/plain": [
              "<Figure size 432x288 with 1 Axes>"
            ]
          },
          "metadata": {
            "needs_background": "light"
          }
        }
      ]
    }
  ]
}