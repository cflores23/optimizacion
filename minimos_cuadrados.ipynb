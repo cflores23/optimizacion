{
  "nbformat": 4,
  "nbformat_minor": 0,
  "metadata": {
    "colab": {
      "name": "minimos_cuadrados.ipynb",
      "provenance": [],
      "authorship_tag": "ABX9TyPbBk5bYMyce6H57mKCsnuu",
      "include_colab_link": true
    },
    "kernelspec": {
      "name": "python3",
      "display_name": "Python 3"
    },
    "language_info": {
      "name": "python"
    }
  },
  "cells": [
    {
      "cell_type": "markdown",
      "metadata": {
        "id": "view-in-github",
        "colab_type": "text"
      },
      "source": [
        "<a href=\"https://colab.research.google.com/github/cflores23/optimizacion/blob/main/minimos_cuadrados.ipynb\" target=\"_parent\"><img src=\"https://colab.research.google.com/assets/colab-badge.svg\" alt=\"Open In Colab\"/></a>"
      ]
    },
    {
      "cell_type": "markdown",
      "source": [
        "##Método de mímimos cuadrados para ajustar una función cuadrática a un conjunto de datos"
      ],
      "metadata": {
        "id": "B6pW2NAKRuAK"
      }
    },
    {
      "cell_type": "markdown",
      "source": [
        "Consiste en determinar la curva que mejor se ajuste a los puntos dados, para ello se determinarán los coeficientes que satisfagan a las ecuaciones normales: a0, a1 y a2 de la ecuación:\n",
        "\n",
        "y = a_0 + a_1x + a_2x^2"
      ],
      "metadata": {
        "id": "lrxglu-EUQhy"
      }
    },
    {
      "cell_type": "code",
      "source": [
        "import numpy as np\n",
        "import random as ran\n",
        "import pylab as plt\n",
        "num_puntos = input(\"Por favor ingrese el número de puntos: \")"
      ],
      "metadata": {
        "colab": {
          "base_uri": "https://localhost:8080/"
        },
        "id": "9JNzr2JoVUuf",
        "outputId": "52415829-918d-4500-ddfa-3cd61f1b2d2b"
      },
      "execution_count": null,
      "outputs": [
        {
          "name": "stdout",
          "output_type": "stream",
          "text": [
            "Por favor ingrese el número de puntos: 7\n"
          ]
        }
      ]
    },
    {
      "cell_type": "code",
      "source": [
        "num_puntos = int(num_puntos)\n",
        "a = np.zeros([num_puntos,3])\n",
        "b = np.zeros([num_puntos,1])\n",
        "x = np.zeros([num_puntos,1])\n",
        "y = np.zeros([num_puntos,1])\n",
        "\n",
        "for i in range(num_puntos):\n",
        "  ord=input('Ingrese la ordenada')\n",
        "  absi=input('Ingrese la absisa')\n",
        "  ord=float(ord)\n",
        "  absi=float(absi)\n",
        "  a[i,0] = 1\n",
        "  a[i,1] = ord\n",
        "  a[i,2] = ord**2\n",
        "  b[i,0] = absi\n",
        "  x[i] = ord\n",
        "  y[i] = absi\n",
        "  \n",
        "print(a)\n",
        "print(b)"
      ],
      "metadata": {
        "colab": {
          "base_uri": "https://localhost:8080/"
        },
        "id": "oUeUCnoNYt1I",
        "outputId": "f464c87a-e29e-4329-c9df-ede15bcba73a"
      },
      "execution_count": null,
      "outputs": [
        {
          "output_type": "stream",
          "name": "stdout",
          "text": [
            "Ingrese la ordenada0\n",
            "Ingrese la absisa2.4\n",
            "Ingrese la ordenada1\n",
            "Ingrese la absisa2.1\n",
            "Ingrese la ordenada2\n",
            "Ingrese la absisa3.2\n",
            "Ingrese la ordenada3\n",
            "Ingrese la absisa5.6\n",
            "Ingrese la ordenada4\n",
            "Ingrese la absisa9.3\n",
            "Ingrese la ordenada5\n",
            "Ingrese la absisa14.6\n",
            "Ingrese la ordenada6\n",
            "Ingrese la absisa21.9\n",
            "[[ 1.  0.  0.]\n",
            " [ 1.  1.  1.]\n",
            " [ 1.  2.  4.]\n",
            " [ 1.  3.  9.]\n",
            " [ 1.  4. 16.]\n",
            " [ 1.  5. 25.]\n",
            " [ 1.  6. 36.]]\n",
            "[[ 2.4]\n",
            " [ 2.1]\n",
            " [ 3.2]\n",
            " [ 5.6]\n",
            " [ 9.3]\n",
            " [14.6]\n",
            " [21.9]]\n"
          ]
        }
      ]
    },
    {
      "cell_type": "markdown",
      "source": [
        "##Graficando los puntos"
      ],
      "metadata": {
        "id": "KMDxMOgE6Lfk"
      }
    },
    {
      "cell_type": "code",
      "source": [
        "plt.plot(x,y,'o')"
      ],
      "metadata": {
        "colab": {
          "base_uri": "https://localhost:8080/",
          "height": 282
        },
        "id": "85kCKP4C6K-U",
        "outputId": "2508607c-486f-4b30-ef0a-ee97bdceed6d"
      },
      "execution_count": null,
      "outputs": [
        {
          "output_type": "execute_result",
          "data": {
            "text/plain": [
              "[<matplotlib.lines.Line2D at 0x7f88b9868350>]"
            ]
          },
          "metadata": {},
          "execution_count": 4
        },
        {
          "output_type": "display_data",
          "data": {
            "image/png": "[encoded data removed]",
            "text/plain": [
              "<Figure size 432x288 with 1 Axes>"
            ]
          },
          "metadata": {
            "needs_background": "light"
          }
        }
      ]
    },
    {
      "cell_type": "code",
      "source": [
        "at = np.transpose(a)\n",
        "at"
      ],
      "metadata": {
        "colab": {
          "base_uri": "https://localhost:8080/"
        },
        "id": "PP02PFVlljEI",
        "outputId": "d4756aa9-448e-4219-c0d6-69c009b7aa7a"
      },
      "execution_count": null,
      "outputs": [
        {
          "output_type": "execute_result",
          "data": {
            "text/plain": [
              "array([[ 1.,  1.,  1.,  1.,  1.,  1.,  1.],\n",
              "       [ 0.,  1.,  2.,  3.,  4.,  5.,  6.],\n",
              "       [ 0.,  1.,  4.,  9., 16., 25., 36.]])"
            ]
          },
          "metadata": {},
          "execution_count": 5
        }
      ]
    },
    {
      "cell_type": "code",
      "source": [
        "atpora = np.dot(at,a)\n",
        "atpora"
      ],
      "metadata": {
        "colab": {
          "base_uri": "https://localhost:8080/"
        },
        "id": "0P_pyYjZqMZx",
        "outputId": "2aa688a6-90f0-45a2-fdba-f97b6e9c5872"
      },
      "execution_count": null,
      "outputs": [
        {
          "output_type": "execute_result",
          "data": {
            "text/plain": [
              "array([[   7.,   21.,   91.],\n",
              "       [  21.,   91.,  441.],\n",
              "       [  91.,  441., 2275.]])"
            ]
          },
          "metadata": {},
          "execution_count": 6
        }
      ]
    },
    {
      "cell_type": "code",
      "source": [
        "inv = np.linalg.inv(atpora)\n",
        "inv"
      ],
      "metadata": {
        "colab": {
          "base_uri": "https://localhost:8080/"
        },
        "id": "bYaB6thq07VJ",
        "outputId": "00073999-08f0-450c-d071-c7af96cf2e75"
      },
      "execution_count": null,
      "outputs": [
        {
          "output_type": "execute_result",
          "data": {
            "text/plain": [
              "array([[ 0.76190476, -0.46428571,  0.05952381],\n",
              "       [-0.46428571,  0.46428571, -0.07142857],\n",
              "       [ 0.05952381, -0.07142857,  0.01190476]])"
            ]
          },
          "metadata": {},
          "execution_count": 7
        }
      ]
    },
    {
      "cell_type": "code",
      "source": [
        "invporat = np.dot(inv,at)\n",
        "solucion = np.dot(invporat,b)\n",
        "solucion"
      ],
      "metadata": {
        "colab": {
          "base_uri": "https://localhost:8080/"
        },
        "id": "U9V9m2mi1EIc",
        "outputId": "c06722c8-a93b-43d0-de78-36c61ba9bce6"
      },
      "execution_count": null,
      "outputs": [
        {
          "output_type": "execute_result",
          "data": {
            "text/plain": [
              "array([[ 2.50952381],\n",
              "       [-1.2       ],\n",
              "       [ 0.73333333]])"
            ]
          },
          "metadata": {},
          "execution_count": 8
        }
      ]
    },
    {
      "cell_type": "code",
      "source": [
        "a0=solucion[0]\n",
        "a1=solucion[1]\n",
        "a2=solucion[2]\n",
        "print('La solución para el coeficiente a0 es:', a0)\n",
        "print('La solución para el coeficiente a1 es:', a1)\n",
        "print('La solución para el coeficiente a2 es:', a2)"
      ],
      "metadata": {
        "colab": {
          "base_uri": "https://localhost:8080/"
        },
        "id": "N5JiZEzH1jHV",
        "outputId": "00fd6366-08f7-4085-d42f-70748956bca2"
      },
      "execution_count": null,
      "outputs": [
        {
          "output_type": "stream",
          "name": "stdout",
          "text": [
            "La solución para el coeficiente a0 es: [2.50952381]\n",
            "La solución para el coeficiente a1 es: [-1.2]\n",
            "La solución para el coeficiente a2 es: [0.73333333]\n"
          ]
        }
      ]
    },
    {
      "cell_type": "markdown",
      "source": [
        "Entonces la ecuación que mejor se ajusta a los puntos dados es:"
      ],
      "metadata": {
        "id": "HZwSpgMR2mLT"
      }
    },
    {
      "cell_type": "code",
      "source": [
        "res = str(a0)+'+'+str(a1)+'x_1'+str(a2)+'x_2^2'\n",
        "res"
      ],
      "metadata": {
        "colab": {
          "base_uri": "https://localhost:8080/",
          "height": 35
        },
        "id": "bxDaZnuu2wkB",
        "outputId": "0d59eab7-1a75-47fe-d8c1-81e5c86fb23a"
      },
      "execution_count": null,
      "outputs": [
        {
          "output_type": "execute_result",
          "data": {
            "application/vnd.google.colaboratory.intrinsic+json": {
              "type": "string"
            },
            "text/plain": [
              "'[2.50952381]+[-1.2]x_1[0.73333333]x_2^2'"
            ]
          },
          "metadata": {},
          "execution_count": 10
        }
      ]
    },
    {
      "cell_type": "markdown",
      "source": [
        "Intentando graficar la función"
      ],
      "metadata": {
        "id": "YVC8QrHM7qVB"
      }
    },
    {
      "cell_type": "code",
      "source": [
        "def evalua_func(a0,a1,a2,x):\n",
        "  resul = np.zeros([num_puntos,1])\n",
        "  for i in range(len(x)):\n",
        "    resul[i] = a0 + (a1*x[i]) + (a2*(x[i]**2))\n",
        "  resul\n",
        "  return resul"
      ],
      "metadata": {
        "id": "DSTkmqzg7tiL"
      },
      "execution_count": null,
      "outputs": []
    },
    {
      "cell_type": "code",
      "source": [
        "array_resul = evalua_func(a0,a1,a2,x)\n",
        "plt.plot(x,y,'o')\n",
        "plt.plot(x,array_resul,'-')"
      ],
      "metadata": {
        "colab": {
          "base_uri": "https://localhost:8080/",
          "height": 282
        },
        "id": "XfYldk969Uiy",
        "outputId": "c6d38293-113d-4079-bb31-6901f3a75402"
      },
      "execution_count": null,
      "outputs": [
        {
          "output_type": "execute_result",
          "data": {
            "text/plain": [
              "[<matplotlib.lines.Line2D at 0x7f88b736c6d0>]"
            ]
          },
          "metadata": {},
          "execution_count": 12
        },
        {
          "output_type": "display_data",
          "data": {
            "image/png": "[encoded data removed]",
            "text/plain": [
              "<Figure size 432x288 with 1 Axes>"
            ]
          },
          "metadata": {
            "needs_background": "light"
          }
        }
      ]
    }
  ]
}