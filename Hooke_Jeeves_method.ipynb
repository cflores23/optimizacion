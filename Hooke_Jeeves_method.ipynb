{
  "nbformat": 4,
  "nbformat_minor": 0,
  "metadata": {
    "colab": {
      "name": "Hooke_Jeeves_method.ipynb",
      "provenance": [],
      "authorship_tag": "ABX9TyOG4LzVK8qp0tcsxKjhwiYg",
      "include_colab_link": true
    },
    "kernelspec": {
      "name": "python3",
      "display_name": "Python 3"
    },
    "language_info": {
      "name": "python"
    }
  },
  "cells": [
    {
      "cell_type": "markdown",
      "metadata": {
        "id": "view-in-github",
        "colab_type": "text"
      },
      "source": [
        "<a href=\"https://colab.research.google.com/github/cflores23/optimizacion/blob/main/Hooke_Jeeves_method.ipynb\" target=\"_parent\"><img src=\"https://colab.research.google.com/assets/colab-badge.svg\" alt=\"Open In Colab\"/></a>"
      ]
    },
    {
      "cell_type": "code",
      "execution_count": null,
      "metadata": {
        "id": "C_A5wQt87GtX"
      },
      "outputs": [],
      "source": [
        "import numpy as np\n",
        "from numpy import linalg as la"
      ]
    },
    {
      "cell_type": "code",
      "source": [
        "initial_point = np.array([0,0])\n",
        "delta = np.array([0.5,0.5])\n",
        "alpha = 2\n",
        "epsilon = 0.001\n",
        "iter = 0"
      ],
      "metadata": {
        "id": "VZMX2pGk7Wss"
      },
      "execution_count": null,
      "outputs": []
    },
    {
      "cell_type": "code",
      "source": [
        "def evalua_function(point):\n",
        "  x_1 = point[0]\n",
        "  x_2 = point[1]\n",
        "  fDeX = ((x_1)**2 + x_2 - 11)**2 + (x_1+(x_2)**2 -7)**2\n",
        "  return fDeX"
      ],
      "metadata": {
        "id": "SImDF_vY73RV"
      },
      "execution_count": null,
      "outputs": []
    },
    {
      "cell_type": "code",
      "source": [
        "evaluations_dict={}"
      ],
      "metadata": {
        "id": "L3T7IUOjZQyM"
      },
      "execution_count": null,
      "outputs": []
    },
    {
      "cell_type": "code",
      "source": [
        "fDx = evalua_function(initial_point)\n",
        "string = \",\".join([str(_) for _ in initial_point])\n",
        "evaluations_dict[string]=fDx\n",
        "evaluations_dict"
      ],
      "metadata": {
        "colab": {
          "base_uri": "https://localhost:8080/"
        },
        "id": "6i05wMGl8zxl",
        "outputId": "ee47179b-2177-4a2d-e8c8-798b1eeeac8f"
      },
      "execution_count": null,
      "outputs": [
        {
          "output_type": "execute_result",
          "data": {
            "text/plain": [
              "{'0,0': 170}"
            ]
          },
          "metadata": {},
          "execution_count": 174
        }
      ]
    },
    {
      "cell_type": "code",
      "source": [
        "xDelta = initial_point[0]+delta[0]\n",
        "fPlusPoint = np.array([xDelta,initial_point[1]])\n",
        "fPlus = evalua_function(fPlusPoint)\n",
        "string = \",\".join([str(_) for _ in fPlusPoint])\n",
        "evaluations_dict[string]=fPlus\n",
        "evaluations_dict"
      ],
      "metadata": {
        "colab": {
          "base_uri": "https://localhost:8080/"
        },
        "id": "zVKO5q72-cle",
        "outputId": "01f1964f-1c33-4bc8-94fc-4cbef0526f60"
      },
      "execution_count": null,
      "outputs": [
        {
          "output_type": "execute_result",
          "data": {
            "text/plain": [
              "{'0,0': 170, '0.5,0.0': 157.8125}"
            ]
          },
          "metadata": {},
          "execution_count": 175
        }
      ]
    },
    {
      "cell_type": "code",
      "source": [
        "xDelta = initial_point[0]-delta[0]\n",
        "fMinusPoint = np.array([xDelta,initial_point[1]])\n",
        "fMinus = evalua_function(fMinusPoint)\n",
        "string = \",\".join([str(_) for _ in fMinusPoint])\n",
        "evaluations_dict[string]=fMinus\n",
        "evaluations_dict"
      ],
      "metadata": {
        "colab": {
          "base_uri": "https://localhost:8080/"
        },
        "id": "O48MHB7bXt-G",
        "outputId": "ca931b5a-0f67-4ed8-f0fe-6fc07f842af3"
      },
      "execution_count": null,
      "outputs": [
        {
          "output_type": "execute_result",
          "data": {
            "text/plain": [
              "{'-0.5,0.0': 171.8125, '0,0': 170, '0.5,0.0': 157.8125}"
            ]
          },
          "metadata": {},
          "execution_count": 176
        }
      ]
    },
    {
      "cell_type": "code",
      "source": [
        "sortedDict = sorted(evaluations_dict.items(), key=lambda x: x[1])\n",
        "sortedDict"
      ],
      "metadata": {
        "colab": {
          "base_uri": "https://localhost:8080/"
        },
        "id": "K5MN3729cMIV",
        "outputId": "9ac759df-9d62-483b-9189-da5aef7540bb"
      },
      "execution_count": null,
      "outputs": [
        {
          "output_type": "execute_result",
          "data": {
            "text/plain": [
              "[('0.5,0.0', 157.8125), ('0,0', 170), ('-0.5,0.0', 171.8125)]"
            ]
          },
          "metadata": {},
          "execution_count": 177
        }
      ]
    },
    {
      "cell_type": "code",
      "source": [
        "best = sortedDict[0][0]\n",
        "initial_point = best\n",
        "#initial_point = [best]\n",
        "initial_point"
      ],
      "metadata": {
        "colab": {
          "base_uri": "https://localhost:8080/",
          "height": 35
        },
        "id": "go-ty2-evlMX",
        "outputId": "7e988616-5ecf-4929-9ecb-3b032d8b0eb6"
      },
      "execution_count": null,
      "outputs": [
        {
          "output_type": "execute_result",
          "data": {
            "text/plain": [
              "'0.5,0.0'"
            ],
            "application/vnd.google.colaboratory.intrinsic+json": {
              "type": "string"
            }
          },
          "metadata": {},
          "execution_count": 178
        }
      ]
    },
    {
      "cell_type": "code",
      "source": [
        "initial_point = initial_point.split(sep=',')\n",
        "initial_point = [initial_point]\n",
        "initial_point"
      ],
      "metadata": {
        "colab": {
          "base_uri": "https://localhost:8080/"
        },
        "id": "SZJnoJZM6Rau",
        "outputId": "8f8541e0-f056-4bd6-a7dd-314f40f6e23a"
      },
      "execution_count": null,
      "outputs": [
        {
          "output_type": "execute_result",
          "data": {
            "text/plain": [
              "[['0.5', '0.0']]"
            ]
          },
          "metadata": {},
          "execution_count": 179
        }
      ]
    },
    {
      "cell_type": "code",
      "source": [
        "x1=float(initial_point[0][0])\n",
        "x1"
      ],
      "metadata": {
        "colab": {
          "base_uri": "https://localhost:8080/"
        },
        "id": "WBGGVPvP73et",
        "outputId": "bc80753d-9356-4228-8273-992dc9099e79"
      },
      "execution_count": null,
      "outputs": [
        {
          "output_type": "execute_result",
          "data": {
            "text/plain": [
              "0.5"
            ]
          },
          "metadata": {},
          "execution_count": 180
        }
      ]
    },
    {
      "cell_type": "code",
      "source": [
        "x2=float(initial_point[0][1])\n",
        "x2"
      ],
      "metadata": {
        "colab": {
          "base_uri": "https://localhost:8080/"
        },
        "id": "S11a5u7lB89L",
        "outputId": "05287906-3e6e-4482-b7a1-84ff3e62cc58"
      },
      "execution_count": null,
      "outputs": [
        {
          "output_type": "execute_result",
          "data": {
            "text/plain": [
              "0.0"
            ]
          },
          "metadata": {},
          "execution_count": 182
        }
      ]
    },
    {
      "cell_type": "code",
      "source": [
        "initial_point = np.array([x1,x2])\n",
        "initial_point"
      ],
      "metadata": {
        "colab": {
          "base_uri": "https://localhost:8080/"
        },
        "id": "ZOQGgGlNCPEG",
        "outputId": "83d428c3-aa93-4010-f7b0-295b3110bd9b"
      },
      "execution_count": null,
      "outputs": [
        {
          "output_type": "execute_result",
          "data": {
            "text/plain": [
              "array([0.5, 0. ])"
            ]
          },
          "metadata": {},
          "execution_count": 184
        }
      ]
    },
    {
      "cell_type": "code",
      "source": [
        "x_0 = np.array([0,0])\n",
        "initial_point = np.array([0,0])\n",
        "delta = np.array([0.5,0.5])\n",
        "alpha = 2\n",
        "epsilon = 0.001\n",
        "k = 0\n",
        "i=0\n",
        "fPlusPoint = np.empty(2, dtype=float)\n",
        "fMinusPoint = np.empty(2, dtype=float)\n",
        "while i < len(initial_point):\n",
        "  print(\"iteracion \"+ str(i)+\"----------------------------------------\")\n",
        "  evaluations_dict={}\n",
        "  fPlusPoint = [initial_point[0],initial_point[1]]\n",
        "  fMinusPoint = [initial_point[0],initial_point[1]]\n",
        "  print(\"fPlusPoint \"+str(fPlusPoint))\n",
        "  fDx = evalua_function(initial_point)\n",
        "  print(\"F de x_\"+str(i)+\"= \"+str(fDx))\n",
        "  string = \",\".join([str(_) for _ in initial_point])\n",
        "  evaluations_dict[string]=fDx\n",
        "  xDelta = initial_point[i]+delta[i]\n",
        "  print(\"x+delta \"+str(xDelta))\n",
        "  fPlusPoint[i] = xDelta\n",
        "  print(\"Array fPlusPoint \"+str(fPlusPoint))\n",
        "  fPlus = evalua_function(fPlusPoint)\n",
        "  print(\"F de x_\"+str(i)+\"+ = \"+str(fPlus))\n",
        "  string = \",\".join([str(_) for _ in fPlusPoint])\n",
        "  evaluations_dict[string]=fPlus\n",
        "  xDelta = initial_point[i]-delta[i]\n",
        "  fMinusPoint[i] = xDelta\n",
        "  fMinus = evalua_function(fMinusPoint)\n",
        "  string = \",\".join([str(_) for _ in fMinusPoint])\n",
        "  evaluations_dict[string]=fMinus\n",
        "  print(\"Diccionario \"+str(evaluations_dict))\n",
        "  sortedDict = sorted(evaluations_dict.items(), key=lambda x: x[1])\n",
        "  print(\"Diccionario ordenado\"+str(sortedDict))\n",
        "  best = sortedDict[0][0]\n",
        "  print(\"mejor \"+str(best))\n",
        "  initial_point = best\n",
        "  initial_point = initial_point.split(sep=',')\n",
        "  initial_point = [initial_point]\n",
        "  x1=float(initial_point[0][0])\n",
        "  x2=float(initial_point[0][1])\n",
        "  initial_point = np.array([x1,x2])\n",
        "  i=i+1\n",
        "\n",
        "if np.array_equal(x_0,initial_point):\n",
        "  print(\"El movimiento no es satisfactorio\")\n",
        "\n",
        "x_p = initial_point + (initial_point - x_0)\n",
        "x_p\n",
        "\n",
        "norm = np.sqrt((delta[0])**2 + (delta[1]**2))\n",
        "norm"
      ],
      "metadata": {
        "colab": {
          "base_uri": "https://localhost:8080/"
        },
        "id": "3oZ0F93TtxNb",
        "outputId": "9fa5dbb8-2038-4c24-9f36-d6f430825def"
      },
      "execution_count": null,
      "outputs": [
        {
          "output_type": "stream",
          "name": "stdout",
          "text": [
            "iteracion 0----------------------------------------\n",
            "fPlusPoint [0, 0]\n",
            "F de x_0= 170\n",
            "x+delta 0.5\n",
            "Array fPlusPoint [0.5, 0]\n",
            "F de x_0+ = 157.8125\n",
            "Diccionario {'0,0': 170, '0.5,0': 157.8125, '-0.5,0': 171.8125}\n",
            "Diccionario ordenado[('0.5,0', 157.8125), ('0,0', 170), ('-0.5,0', 171.8125)]\n",
            "mejor 0.5,0\n",
            "iteracion 1----------------------------------------\n",
            "fPlusPoint [0.5, 0.0]\n",
            "F de x_1= 157.8125\n",
            "x+delta 0.5\n",
            "Array fPlusPoint [0.5, 0.5]\n",
            "F de x_1+ = 144.125\n",
            "Diccionario {'0.5,0.0': 157.8125, '0.5,0.5': 144.125, '0.5,-0.5': 165.625}\n",
            "Diccionario ordenado[('0.5,0.5', 144.125), ('0.5,0.0', 157.8125), ('0.5,-0.5', 165.625)]\n",
            "mejor 0.5,0.5\n"
          ]
        },
        {
          "output_type": "execute_result",
          "data": {
            "text/plain": [
              "0.7071067811865476"
            ]
          },
          "metadata": {},
          "execution_count": 253
        }
      ]
    },
    {
      "cell_type": "markdown",
      "source": [
        "##Implementación funcional"
      ],
      "metadata": {
        "id": "bYSHbjsbzA2Q"
      }
    },
    {
      "cell_type": "code",
      "source": [
        "import sys\n",
        "import math\n",
        "\n",
        "def McCormick(x):\n",
        "  x_1 = x[0]\n",
        "  x_2 = x[1] \n",
        "  res = math.sin(x_1 + x_2) + (x_1 - x_2)**2 - (1.5*x_1) + 2.5 * x_2 + 1\n",
        "  return res\n",
        "\n",
        "def rosenbrock(x):\n",
        "    '''\n",
        "        ## Rosenbrocks classic parabolic valley (\"banana\") function\n",
        "    '''\n",
        "    a = x[0]\n",
        "    b = x[1]\n",
        "    return ((1.0 - a)**2) + (100.0 * (b - (a**2))**2)\n",
        "\n",
        "def bukin(x):\n",
        "  x_1 = x[0]\n",
        "  x_2 = x[1] \n",
        "  res = 100 * math.sqrt(abs(x_2 - 0.01*(x_1)**2)) + 0.01 * abs(x_1 + 10)\n",
        "  return res\n",
        "\n",
        "def _hooke_best_nearby(f, delta, point, prevbest, bounds=None, args=[]):\n",
        "    '''\n",
        "        ## given a point, look for a better one nearby\n",
        "156        one coord at a time\n",
        "157        \n",
        "158        f is a function that takes a list of floats (of the same length as point) as an input\n",
        "159        args is a dict of any additional arguments to pass to f\n",
        "160        delta, and point are same-length lists of floats\n",
        "161        prevbest is a float\n",
        "162        \n",
        "163        point and delta are both modified by the function\n",
        "164    '''\n",
        "    z = [x for x in point]\n",
        "    minf = prevbest\n",
        "    ftmp = 0.0\n",
        "    \n",
        "    fev = 0\n",
        "    \n",
        "    for i in range(len(point)):\n",
        "        #see if moving point in the positive delta direction decreases the \n",
        "        z[i] = _value_in_bounds(point[i] + delta[i], bounds[i][0], bounds[i][1])\n",
        "        \n",
        "        ftmp = f(z, *args)\n",
        "        fev += 1\n",
        "        if ftmp < minf:\n",
        "            minf = ftmp\n",
        "        else:\n",
        "            #if not, try moving it in the other direction\n",
        "            delta[i] = -delta[i]\n",
        "            z[i] = _value_in_bounds(point[i] + delta[i], bounds[i][0], bounds[i][1])\n",
        "            \n",
        "            ftmp = f(z, *args)\n",
        "            fev += 1\n",
        "            if ftmp < minf:\n",
        "                minf = ftmp\n",
        "            else:\n",
        "                #if moving the point in both delta directions result in no improvement, then just keep the point where it is\n",
        "                z[i] = point[i]\n",
        "\n",
        "    for i in range(len(z)):\n",
        "        point[i] = z[i]\n",
        "    return (minf, fev)\n",
        "                \n",
        "def _point_in_bounds(point, bounds):\n",
        "    '''\n",
        "198        shifts the point so it is within the given bounds\n",
        "199    '''\n",
        "    for i in range(len(point)):\n",
        "        if point[i] < bounds[i][0]:\n",
        "            point[i] = bounds[i][0]\n",
        "        elif point[i] > bounds[i][1]:\n",
        "            point[i] = bounds[i][1]\n",
        "def _is_point_in_bounds(point, bounds):\n",
        "    '''\n",
        "207        true if the point is in the bounds, else false\n",
        "208    '''\n",
        "    out = True\n",
        "    for i in range(len(point)):\n",
        "        if point[i] < bounds[i][0]:\n",
        "            out = False\n",
        "        elif point[i] > bounds[i][1]:\n",
        "            out = False\n",
        "    return out\n",
        "\n",
        "def _value_in_bounds(val, low, high):\n",
        "    if val < low:\n",
        "        return low\n",
        "    elif val > high:\n",
        "        return high\n",
        "    else:\n",
        "        return val\n",
        "            \n",
        "def hooke(f, startpt, bounds=None, rho=0.5, epsilon=1E-6, itermax=5000, args=[]):\n",
        "    '''\n",
        "227        In this version of the Hooke and Jeeves algorithm, we coerce the function into staying within the given bounds.\n",
        "228        basically, any time the function tries to pick a point outside the bounds we shift the point to the boundary\n",
        "229        on whatever dimension it is out of bounds in. Implementing bounds this way may be questionable from a theory standpoint,\n",
        "230        but that's how COPASI does it, that's how I'll do it too.\n",
        "231        \n",
        "232    '''\n",
        "    \n",
        "    result = dict()\n",
        "    result['success'] = True\n",
        "    result['message'] = 'success'\n",
        "    \n",
        "    delta = [0.0] * len(startpt)\n",
        "    endpt = [0.0] * len(startpt)\n",
        "    if bounds is None:\n",
        "        # if bounds is none, make it none for all (it will be converted to below)\n",
        "        bounds = [[None,None] for x in startpt]\n",
        "    else:\n",
        "        bounds = [[x[0],x[1]] for x in bounds] #make it so it wont update the original\n",
        "    startpt = [x for x in startpt] #make it so it wont update the original\n",
        "    \n",
        "    fmin = None\n",
        "    nfev = 0\n",
        "    iters = 0\n",
        "    \n",
        "    for bound in bounds:\n",
        "        if bound[0] is None:\n",
        "            bound[0] = float('-inf')\n",
        "        else:\n",
        "            bound[0] = float(bound[0])\n",
        "        if bound[1] is None:\n",
        "            bound[1] = float('inf')\n",
        "        else:\n",
        "            bound[1] = float(bound[1])\n",
        "    try:\n",
        "        # shift \n",
        "        _point_in_bounds(startpt, bounds) #shift startpt so it is within the bounds\n",
        "       \n",
        "        xbefore = [x for x in startpt]\n",
        "        newx = [x for x in startpt]\n",
        "        for i in range(len(startpt)):\n",
        "            delta[i] = abs(startpt[i] * rho)\n",
        "            if (delta[i] == 0.0):\n",
        "                # we always want a non-zero delta because otherwise we'd just be checking the same point over and over\n",
        "                # and wouldn't find a minimum\n",
        "                delta[i] = rho\n",
        "\n",
        "        steplength = rho\n",
        "\n",
        "        fbefore = f(newx, *args)\n",
        "        nfev += 1\n",
        "        \n",
        "        newf = fbefore\n",
        "        fmin = newf\n",
        "        while ((iters < itermax) and (steplength > epsilon)):\n",
        "            iters += 1\n",
        "            #print \"after %5d , f(x) = %.4le at\" % (funevals, fbefore)\n",
        "            \n",
        "    #        for j in range(len(startpt)):\n",
        "                #print \"   x[%2d] = %4le\" % (j, xbefore[j])\n",
        "    #            pass\n",
        "            \n",
        "            ##/* find best new point, one coord at a time */\n",
        "            newx = [x for x in xbefore]\n",
        "            (newf, evals) = _hooke_best_nearby(f, delta, newx, fbefore, bounds, args)\n",
        "            \n",
        "            nfev += evals\n",
        "            ##/* if we made some improvements, pursue that direction */\n",
        "            keep = 1\n",
        "            while ((newf < fbefore) and (keep == 1)):\n",
        "                fmin = newf\n",
        "                for i in range(len(startpt)):\n",
        "                    ##/* firstly, arrange the sign of delta[] */\n",
        "                    if newx[i] <= xbefore[i]:\n",
        "                        delta[i] = -abs(delta[i])\n",
        "                    else:\n",
        "                        delta[i] = abs(delta[i])\n",
        "                    ## /* now, move further in this direction */\n",
        "                    tmp = xbefore[i]\n",
        "                    xbefore[i] = newx[i]\n",
        "                    newx[i] = _value_in_bounds(newx[i] + newx[i] - tmp, bounds[i][0], bounds[i][1])\n",
        "                fbefore = newf\n",
        "                (newf, evals) = _hooke_best_nearby(f, delta, newx, fbefore, bounds, args)\n",
        "                nfev += evals\n",
        "                ##/* if the further (optimistic) move was bad.... */\n",
        "                if (newf >= fbefore):\n",
        "                    break\n",
        "                \n",
        "                ## /* make sure that the differences between the new */\n",
        "                ## /* and the old points are due to actual */\n",
        "                ## /* displacements; beware of roundoff errors that */\n",
        "                ## /* might cause newf < fbefore */\n",
        "                keep = 0\n",
        "                for i in range(len(startpt)):\n",
        "                    keep = 1\n",
        "                    if ( abs(newx[i] - xbefore[i]) > (0.5 * abs(delta[i])) ):\n",
        "                        break\n",
        "                    else:\n",
        "                        keep = 0\n",
        "            if ((steplength >= epsilon) and (newf >= fbefore)):\n",
        "                steplength = steplength * rho\n",
        "                delta = [x * rho for x in delta]\n",
        "        for x in range(len(xbefore)):\n",
        "            endpt[x] = xbefore[x]\n",
        "    except Exception as e:\n",
        "        exc_type, exc_obj, exc_tb = sys.exc_info()\n",
        "        result['success'] = False\n",
        "        result['message'] = str(e) + \". line number: \" + str(exc_tb.tb_lineno)\n",
        "    finally:\n",
        "        result['nit'] = iters\n",
        "        result['fevals'] = nfev\n",
        "        result['fun'] = fmin\n",
        "        result['x'] = endpt\n",
        "   \n",
        "    return result\n",
        "\n",
        "\n",
        "start = [-1,-1]\n",
        "#res = hooke(McCormick, start, bounds=((-1.5, 4),(-3,4)), rho=0.5)\n",
        "#print(res)\n",
        "res = hooke(bukin, start, bounds=((-15, -5),(-3,3)), rho=0.5)\n",
        "print(res)\n",
        "\n"
      ],
      "metadata": {
        "colab": {
          "base_uri": "https://localhost:8080/"
        },
        "id": "w8tdJgP3XndK",
        "outputId": "61df1dc8-cf1c-48c5-dd15-7f2272fb129e"
      },
      "execution_count": 33,
      "outputs": [
        {
          "output_type": "stream",
          "name": "stdout",
          "text": [
            "{'success': True, 'message': 'success', 'nit': 19, 'fevals': 86, 'fun': 0.0, 'x': [-10.0, 1.0]}\n"
          ]
        }
      ]
    }
  ]
}