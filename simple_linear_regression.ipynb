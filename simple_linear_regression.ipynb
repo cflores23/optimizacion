{
  "nbformat": 4,
  "nbformat_minor": 0,
  "metadata": {
    "colab": {
      "provenance": [],
      "authorship_tag": "ABX9TyNyXnPNPzn9p9OhKhUCmOHW",
      "include_colab_link": true
    },
    "kernelspec": {
      "name": "python3",
      "display_name": "Python 3"
    },
    "language_info": {
      "name": "python"
    }
  },
  "cells": [
    {
      "cell_type": "markdown",
      "metadata": {
        "id": "view-in-github",
        "colab_type": "text"
      },
      "source": [
        "<a href=\"https://colab.research.google.com/github/cflores23/optimizacion/blob/main/simple_linear_regression.ipynb\" target=\"_parent\"><img src=\"https://colab.research.google.com/assets/colab-badge.svg\" alt=\"Open In Colab\"/></a>"
      ]
    },
    {
      "cell_type": "markdown",
      "source": [
        "# Implementación de regresión lineal simple\n",
        "\n",
        "Para implementar se tomaron en cuenta las ecuaciones para calcular la intersección con el eje $y$ ($a_0$) así como la pendiente ($a_1$) de la recta de regresión el libro de Estadística de Triola (Triola, 2004).\n",
        "\n",
        "$a_0 = \\frac{n(\\sum{xy}-(\\sum{x})(\\sum{y}))}{n(\\sum{x^2})-(\\sum{x})^2}$\n",
        "\n",
        "$a_1 = \\frac{n(\\sum{y})(\\sum{x^2})-(\\sum{x})(\\sum{xy})}{n(\\sum{x^2})-(\\sum{x})^2}$\n",
        "\n",
        "###Instrucciones de uso\n",
        "\n",
        "Triola, M. F. (2004). Probabilidad y estadística. Pearson educación."
      ],
      "metadata": {
        "id": "ceiKV5HNZ0Ij"
      }
    },
    {
      "cell_type": "code",
      "execution_count": 1,
      "metadata": {
        "id": "ioGjgopwZgHo"
      },
      "outputs": [],
      "source": [
        "import pandas as pd\n",
        "import matplotlib.pyplot as plt\n",
        "import random"
      ]
    },
    {
      "cell_type": "markdown",
      "source": [
        "El archivo .csv que se utilizó para las pruebas se adjunta al presente notebook. Solo se utilizaron 5 registros (puntos), sin embargo, puede ingresarse cualquier cantidad de registros sin problema al mismo documento.\n",
        "\n",
        "Se usa la librería Pandas para convertir el archivo .cvs con los puntos y de esta manera poder manipular los datos con mayor comodidad. Se pudo haber construído el conjunto de puntos, aleatoriamente, en dos arreglos o en una matriz, sin embargo, como el objetivo de la presente implementación es tener una herramienta que se pueda usar en un futuro para proyectos reales, lo más cómodo es obtener los datos de una base de datos, o bien de un archvo .csv Esta es la principal razón de usar dataframes."
      ],
      "metadata": {
        "id": "Es9_oFzXMWnf"
      }
    },
    {
      "cell_type": "code",
      "source": [
        "#Se lee el documento y se convierte a un dataframe y se visualizan los primeros puntos\n",
        "data=pd.read_csv(\"datos_prueba.csv\")\n",
        "data.head()"
      ],
      "metadata": {
        "colab": {
          "base_uri": "https://localhost:8080/",
          "height": 206
        },
        "id": "FW09s9Kla5jC",
        "outputId": "7d913a14-0bee-4545-b35f-7a13045b9f97"
      },
      "execution_count": 2,
      "outputs": [
        {
          "output_type": "execute_result",
          "data": {
            "text/plain": [
              "   x    y\n",
              "0  1  0.5\n",
              "1  2  2.5\n",
              "2  3  2.0\n",
              "3  4  4.0\n",
              "4  5  3.5"
            ],
            "text/html": [
              "\n",
              "  <div id=\"df-ea7c6a9d-b0ae-452c-923d-c710c9824a94\">\n",
              "    <div class=\"colab-df-container\">\n",
              "      <div>\n",
              "<style scoped>\n",
              "    .dataframe tbody tr th:only-of-type {\n",
              "        vertical-align: middle;\n",
              "    }\n",
              "\n",
              "    .dataframe tbody tr th {\n",
              "        vertical-align: top;\n",
              "    }\n",
              "\n",
              "    .dataframe thead th {\n",
              "        text-align: right;\n",
              "    }\n",
              "</style>\n",
              "<table border=\"1\" class=\"dataframe\">\n",
              "  <thead>\n",
              "    <tr style=\"text-align: right;\">\n",
              "      <th></th>\n",
              "      <th>x</th>\n",
              "      <th>y</th>\n",
              "    </tr>\n",
              "  </thead>\n",
              "  <tbody>\n",
              "    <tr>\n",
              "      <th>0</th>\n",
              "      <td>1</td>\n",
              "      <td>0.5</td>\n",
              "    </tr>\n",
              "    <tr>\n",
              "      <th>1</th>\n",
              "      <td>2</td>\n",
              "      <td>2.5</td>\n",
              "    </tr>\n",
              "    <tr>\n",
              "      <th>2</th>\n",
              "      <td>3</td>\n",
              "      <td>2.0</td>\n",
              "    </tr>\n",
              "    <tr>\n",
              "      <th>3</th>\n",
              "      <td>4</td>\n",
              "      <td>4.0</td>\n",
              "    </tr>\n",
              "    <tr>\n",
              "      <th>4</th>\n",
              "      <td>5</td>\n",
              "      <td>3.5</td>\n",
              "    </tr>\n",
              "  </tbody>\n",
              "</table>\n",
              "</div>\n",
              "      <button class=\"colab-df-convert\" onclick=\"convertToInteractive('df-ea7c6a9d-b0ae-452c-923d-c710c9824a94')\"\n",
              "              title=\"Convert this dataframe to an interactive table.\"\n",
              "              style=\"display:none;\">\n",
              "        \n",
              "  <svg xmlns=\"http://www.w3.org/2000/svg\" height=\"24px\"viewBox=\"0 0 24 24\"\n",
              "       width=\"24px\">\n",
              "    <path d=\"M0 0h24v24H0V0z\" fill=\"none\"/>\n",
              "    <path d=\"M18.56 5.44l.94 2.06.94-2.06 2.06-.94-2.06-.94-.94-2.06-.94 2.06-2.06.94zm-11 1L8.5 8.5l.94-2.06 2.06-.94-2.06-.94L8.5 2.5l-.94 2.06-2.06.94zm10 10l.94 2.06.94-2.06 2.06-.94-2.06-.94-.94-2.06-.94 2.06-2.06.94z\"/><path d=\"M17.41 7.96l-1.37-1.37c-.4-.4-.92-.59-1.43-.59-.52 0-1.04.2-1.43.59L10.3 9.45l-7.72 7.72c-.78.78-.78 2.05 0 2.83L4 21.41c.39.39.9.59 1.41.59.51 0 1.02-.2 1.41-.59l7.78-7.78 2.81-2.81c.8-.78.8-2.07 0-2.86zM5.41 20L4 18.59l7.72-7.72 1.47 1.35L5.41 20z\"/>\n",
              "  </svg>\n",
              "      </button>\n",
              "      \n",
              "  <style>\n",
              "    .colab-df-container {\n",
              "      display:flex;\n",
              "      flex-wrap:wrap;\n",
              "      gap: 12px;\n",
              "    }\n",
              "\n",
              "    .colab-df-convert {\n",
              "      background-color: #E8F0FE;\n",
              "      border: none;\n",
              "      border-radius: 50%;\n",
              "      cursor: pointer;\n",
              "      display: none;\n",
              "      fill: #1967D2;\n",
              "      height: 32px;\n",
              "      padding: 0 0 0 0;\n",
              "      width: 32px;\n",
              "    }\n",
              "\n",
              "    .colab-df-convert:hover {\n",
              "      background-color: #E2EBFA;\n",
              "      box-shadow: 0px 1px 2px rgba(60, 64, 67, 0.3), 0px 1px 3px 1px rgba(60, 64, 67, 0.15);\n",
              "      fill: #174EA6;\n",
              "    }\n",
              "\n",
              "    [theme=dark] .colab-df-convert {\n",
              "      background-color: #3B4455;\n",
              "      fill: #D2E3FC;\n",
              "    }\n",
              "\n",
              "    [theme=dark] .colab-df-convert:hover {\n",
              "      background-color: #434B5C;\n",
              "      box-shadow: 0px 1px 3px 1px rgba(0, 0, 0, 0.15);\n",
              "      filter: drop-shadow(0px 1px 2px rgba(0, 0, 0, 0.3));\n",
              "      fill: #FFFFFF;\n",
              "    }\n",
              "  </style>\n",
              "\n",
              "      <script>\n",
              "        const buttonEl =\n",
              "          document.querySelector('#df-ea7c6a9d-b0ae-452c-923d-c710c9824a94 button.colab-df-convert');\n",
              "        buttonEl.style.display =\n",
              "          google.colab.kernel.accessAllowed ? 'block' : 'none';\n",
              "\n",
              "        async function convertToInteractive(key) {\n",
              "          const element = document.querySelector('#df-ea7c6a9d-b0ae-452c-923d-c710c9824a94');\n",
              "          const dataTable =\n",
              "            await google.colab.kernel.invokeFunction('convertToInteractive',\n",
              "                                                     [key], {});\n",
              "          if (!dataTable) return;\n",
              "\n",
              "          const docLinkHtml = 'Like what you see? Visit the ' +\n",
              "            '<a target=\"_blank\" href=https://colab.research.google.com/notebooks/data_table.ipynb>data table notebook</a>'\n",
              "            + ' to learn more about interactive tables.';\n",
              "          element.innerHTML = '';\n",
              "          dataTable['output_type'] = 'display_data';\n",
              "          await google.colab.output.renderOutput(dataTable, element);\n",
              "          const docLink = document.createElement('div');\n",
              "          docLink.innerHTML = docLinkHtml;\n",
              "          element.appendChild(docLink);\n",
              "        }\n",
              "      </script>\n",
              "    </div>\n",
              "  </div>\n",
              "  "
            ]
          },
          "metadata": {},
          "execution_count": 2
        }
      ]
    },
    {
      "cell_type": "markdown",
      "source": [
        "Ahora se grafican los puntos y se tiene un primer vistazo de la distribución de los puntos, a partir de esta se puede tener una idea de si es conveniente usar una regresión lineal u obtener las predicciones con otro método. "
      ],
      "metadata": {
        "id": "2S0fd1NdOY4a"
      }
    },
    {
      "cell_type": "code",
      "source": [
        "graf=data.plot(\"x\",\"y\", kind=\"scatter\")\n",
        "plt.show()"
      ],
      "metadata": {
        "colab": {
          "base_uri": "https://localhost:8080/",
          "height": 279
        },
        "id": "0Ffmkt45eXrr",
        "outputId": "a9b321f9-90b9-42cc-9acb-e4596505954d"
      },
      "execution_count": 3,
      "outputs": [
        {
          "output_type": "display_data",
          "data": {
            "text/plain": [
              "<Figure size 432x288 with 1 Axes>"
            ],
            "image/png": "[encoded data removed]"
          },
          "metadata": {
            "needs_background": "light"
          }
        }
      ]
    },
    {
      "cell_type": "code",
      "source": [
        "x=data['x'].tolist()\n",
        "y=data['y'].tolist()"
      ],
      "metadata": {
        "id": "9oeK-IvPfz0p"
      },
      "execution_count": 4,
      "outputs": []
    },
    {
      "cell_type": "code",
      "source": [
        "#Implementación para obtener la pendiente de la recta\n",
        "def calcular_a1(n,sum_xy,sum_x,sum_y,sum_x_cuad,sum_x_al_cuad):\n",
        "  a=0\n",
        "  num = (n*sum_xy)-sum_x*sum_y\n",
        "  den = (n*sum_x_cuad)-sum_x_al_cuad\n",
        "  a = num/den\n",
        "  return a"
      ],
      "metadata": {
        "id": "T2T1ahnAuxzB"
      },
      "execution_count": 5,
      "outputs": []
    },
    {
      "cell_type": "code",
      "source": [
        "#Implementación para obtener la intersección con el eje y\n",
        "def calcular_a0(n,sum_y, sum_x, a1):\n",
        "  a0=(sum_y/n)-((sum_x/n)*a1)\n",
        "  return a0"
      ],
      "metadata": {
        "id": "tamG7XKxyotM"
      },
      "execution_count": 6,
      "outputs": []
    },
    {
      "cell_type": "code",
      "source": [
        "sum_x=sum(data['x'])\n",
        "sum_y=sum(data['y'])\n",
        "sum_xy=0\n",
        "mul_xy = []\n",
        "x_cuad=[]\n",
        "sum_x_cuad=0\n",
        "for i in range(len(data['x'])):\n",
        "  mul=data['x'][i]*data['y'][i]\n",
        "  cuad=data['x'][i]*data['x'][i]\n",
        "  mul_xy.append(mul)\n",
        "  x_cuad.append(cuad)\n",
        "  sum_xy=sum_xy+mul\n",
        "  sum_x_cuad=sum_x_cuad+cuad\n",
        "  \n",
        "\n",
        "sum_x_al_cuad = sum_x*sum_x\n",
        "data['x*y'] = mul_xy\n",
        "data['x^2'] = x_cuad\n",
        "print(data.head())\n",
        "x_prom = sum_x/len(data['x'])\n",
        "y_prom = sum_y/len(data['x'])\n",
        "print(\"Sumatoria de x= {}\".format(sum_x))\n",
        "print(\"Sumatoria de y= {}\".format(sum_y))\n",
        "print(\"Sumatoria de x*y= {}\".format(sum_xy))\n",
        "print(\"Sumatoria de x^2= {}\".format(sum_x_cuad))\n",
        "print(\"Sumatoria de x_i^2= {}\".format(sum_x_al_cuad))\n",
        "\n",
        "a1=calcular_a1(len(data['x']),sum_xy,sum_x, sum_y,sum_x_cuad,sum_x_al_cuad)\n",
        "a0=calcular_a0(len(data['x']),sum_y,sum_x,a1)\n",
        "print(\"El valor de la pendiente= {}\".format(a1))\n",
        "print(\"El valor del término independiente= {}\".format(a0))\n",
        "print(\"La ecuación de la recta de regresión es y = {} + {} x\".format(a0,a1))"
      ],
      "metadata": {
        "colab": {
          "base_uri": "https://localhost:8080/"
        },
        "id": "QGOJ-lzkgnEo",
        "outputId": "c2426542-68a9-4706-ced9-1845bdf47ddb"
      },
      "execution_count": 7,
      "outputs": [
        {
          "output_type": "stream",
          "name": "stdout",
          "text": [
            "   x    y   x*y  x^2\n",
            "0  1  0.5   0.5    1\n",
            "1  2  2.5   5.0    4\n",
            "2  3  2.0   6.0    9\n",
            "3  4  4.0  16.0   16\n",
            "4  5  3.5  17.5   25\n",
            "Sumatoria de x= 28\n",
            "Sumatoria de y= 24.0\n",
            "Sumatoria de x*y= 119.5\n",
            "Sumatoria de x^2= 140\n",
            "Sumatoria de x_i^2= 784\n",
            "El valor de la pendiente= 0.8392857142857143\n",
            "El valor del término independiente= 0.07142857142857117\n",
            "La ecuación de la recta de regresión es y = 0.07142857142857117 + 0.8392857142857143 x\n"
          ]
        }
      ]
    },
    {
      "cell_type": "markdown",
      "source": [
        "Ahora se puede utilizar la ecuación obtenida para predecir los valores de y"
      ],
      "metadata": {
        "id": "lhZjXA5TJi6v"
      }
    },
    {
      "cell_type": "code",
      "source": [
        "def f(x,a0,a1):\n",
        "  y = a0+a1*x\n",
        "  return y"
      ],
      "metadata": {
        "id": "CJnZNSA6Jump"
      },
      "execution_count": 8,
      "outputs": []
    },
    {
      "cell_type": "code",
      "source": [
        "#Graficando la recta de regresión\n",
        "x_s=range(1,10)\n",
        "fig, ax = plt.subplots()\n",
        "ax.scatter(data['x'],data['y'])\n",
        "ax.plot(x_s,[f(i,a0,a1) for i in x_s])\n",
        "plt.show()"
      ],
      "metadata": {
        "colab": {
          "base_uri": "https://localhost:8080/",
          "height": 265
        },
        "id": "DwlESYyUL7O7",
        "outputId": "af25c17a-1025-4dca-c351-540739b3e03c"
      },
      "execution_count": 9,
      "outputs": [
        {
          "output_type": "display_data",
          "data": {
            "text/plain": [
              "<Figure size 432x288 with 1 Axes>"
            ],
            "image/png": "[encoded data removed]"
          },
          "metadata": {
            "needs_background": "light"
          }
        }
      ]
    },
    {
      "cell_type": "code",
      "source": [
        "#Obtener la predicción cuando x = 7\n",
        "x=7\n",
        "y_pred = f(x,a0,a1)\n",
        "print(\"El valor de la predicción es y = {}\".format(y_pred))"
      ],
      "metadata": {
        "colab": {
          "base_uri": "https://localhost:8080/"
        },
        "id": "FtezvO2bKlx7",
        "outputId": "e8774595-ed72-46aa-f2db-cabf51bf0f3e"
      },
      "execution_count": 10,
      "outputs": [
        {
          "output_type": "stream",
          "name": "stdout",
          "text": [
            "El valor de la predicción es y = 5.946428571428571\n"
          ]
        }
      ]
    }
  ]
}