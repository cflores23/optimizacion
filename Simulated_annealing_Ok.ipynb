{
  "nbformat": 4,
  "nbformat_minor": 0,
  "metadata": {
    "colab": {
      "name": "Simulated_annealing_Ok.ipynb",
      "provenance": [],
      "authorship_tag": "ABX9TyNdSnPUq5S1TyaCxd+8txWL",
      "include_colab_link": true
    },
    "kernelspec": {
      "name": "python3",
      "display_name": "Python 3"
    },
    "language_info": {
      "name": "python"
    }
  },
  "cells": [
    {
      "cell_type": "markdown",
      "metadata": {
        "id": "view-in-github",
        "colab_type": "text"
      },
      "source": [
        "<a href=\"https://colab.research.google.com/github/cflores23/optimizacion/blob/main/Simulated_annealing_Ok.ipynb\" target=\"_parent\"><img src=\"https://colab.research.google.com/assets/colab-badge.svg\" alt=\"Open In Colab\"/></a>"
      ]
    },
    {
      "cell_type": "code",
      "execution_count": 1,
      "metadata": {
        "id": "siP7LPEynjRP"
      },
      "outputs": [],
      "source": [
        "import random\n",
        "import numpy as np"
      ]
    },
    {
      "cell_type": "code",
      "source": [
        "#Implementación del método de ajuste Tweek\n",
        "\n",
        "def modifcar_valor_var(w,u,l):\n",
        "  new_w = w\n",
        "  while new_w >= u or new_w <= l:\n",
        "    n = random.uniform(-r,r)\n",
        "    new_w = w+n\n",
        "  return new_w\n",
        "\n",
        "\n",
        "def Tweek(X,p,r,l_sup,l_inf):\n",
        "  W = X\n",
        "  U = l_sup\n",
        "  L = l_inf\n",
        "  len_x = len(X)\n",
        "  n = 0\n",
        "\n",
        "  for i in range(len_x):\n",
        "    value = 1\n",
        "    alea = random.uniform(0,1)\n",
        "    if p >= alea:\n",
        "      n = random.uniform(-r,r)\n",
        "      if (U[i] <= W[i]+n) or (W[i]+n <= L[i]):\n",
        "        x = modifcar_valor_var(W[i]+n,U[i],L[i])\n",
        "        W[i] = x\n",
        "      else:\n",
        "        W[i] = W[i]+n\n",
        "  return W"
      ],
      "metadata": {
        "id": "dd9vmO4gn3a3"
      },
      "execution_count": 2,
      "outputs": []
    },
    {
      "cell_type": "markdown",
      "source": [
        "###Prueba del método Tweek"
      ],
      "metadata": {
        "id": "Ds6UQ_ZYoAL1"
      }
    },
    {
      "cell_type": "code",
      "source": [
        "X = [0,0,0]\n",
        "l_sup = [2,2,2]\n",
        "l_inf = [0,0,0]\n",
        "p = 0.7\n",
        "r = 1.3\n",
        "result = Tweek(X,p,r,l_sup,l_inf)\n",
        "result"
      ],
      "metadata": {
        "colab": {
          "base_uri": "https://localhost:8080/"
        },
        "id": "wcl5xcKooBZA",
        "outputId": "1721032d-23b9-411c-d98e-870ee1ff9a75"
      },
      "execution_count": 3,
      "outputs": [
        {
          "output_type": "execute_result",
          "data": {
            "text/plain": [
              "[0.7949343925236578, 0, 0.41061096680099785]"
            ]
          },
          "metadata": {},
          "execution_count": 3
        }
      ]
    },
    {
      "cell_type": "markdown",
      "source": [
        "#Función objetivo\n",
        "\n",
        "En este caso se prueba el algoritmo con la función de McCormick, obtenida de la página Test Functions for optimization. Por lo tanto esta implementación es para problemas continuos.\n",
        "\n",
        "La función de McCormick es:\n",
        "\\begin{align}\n",
        "        \\mathbf{f(x)} &= sin(x+y) + (x-y)^2 - 1.5x + 2.5y + 1 \n",
        "    \\end{align}\n",
        "En seguida se implementa dicha ecuación:"
      ],
      "metadata": {
        "id": "rQZfNUkfoJC8"
      }
    },
    {
      "cell_type": "code",
      "source": [
        "import math\n",
        "def McCormic(sol):\n",
        "  sol = sol[:]\n",
        "  #print(sol[0])\n",
        "  term1 = math.sin(sol[0]+sol[1])\n",
        "  term2 = (sol[0]-sol[1])**2\n",
        "  term3 = -1.5*sol[0]\n",
        "  term4 = 2.5*sol[1]\n",
        "  #fDeX = math.sin(sol[0]+sol[1]) + (sol[0]+sol[1])**2 - (1.5*(sol[0])) + (2.5*(sol[1])) + 1\n",
        "  fDeX = term1+term2+term3+term4 + 1\n",
        "  return fDeX"
      ],
      "metadata": {
        "id": "vgGltjVlqXDZ"
      },
      "execution_count": 4,
      "outputs": []
    },
    {
      "cell_type": "markdown",
      "source": [
        "#Implementación del algoritmo Recocido simulado"
      ],
      "metadata": {
        "id": "HZ3l7t-tqf3Q"
      }
    },
    {
      "cell_type": "code",
      "source": [
        "#Parámetros para el método Tweek\n",
        "lim_upper = [8,6]\n",
        "lim_inf = [-2,-6]\n",
        "p = 0.8\n",
        "r = 1.5\n",
        "\n",
        "#Lista de variables de decisión\n",
        "X_i = [0,0]\n",
        "#Creamos una solución inicial aleatoria\n",
        "for i in range(len(lim_upper)):\n",
        "  var = random.uniform(lim_upper[i],lim_inf[i])\n",
        "  X_i[i]=var\n",
        "print(\"Solución inicial: \",str(X_i))\n",
        "\n",
        "#Crear un array para almacenar los resultados parciales y graficarlos\n",
        "results = []\n",
        "#Inicia algoritmo Simulated annealing\n",
        "X = X_i.copy()\n",
        "Best = X_i.copy()              #La mejor solución es la inicial\n",
        "metropoli_size = 150    #Tamaño de la metropoli\n",
        "delta = 0\n",
        "T = 100\n",
        "alpha = 0.2\n",
        "iterations = 100\n",
        "fDeBest = McCormic(Best)\n",
        "print(\"F de Best\", str(fDeBest))\n",
        "#Ciclo del algoritmo \n",
        "while iterations > 0:\n",
        "  for j in range(metropoli_size-1):\n",
        "    S = Tweek(X,p,r,lim_upper,lim_inf)\n",
        "    #print(S)\n",
        "    #print(\"Best \", Best)\n",
        "    fDeU = McCormic(S)#Evalúa la función\n",
        "    fDeBest = McCormic(Best)\n",
        "    #print(\"F de U= \",str(fDeU))\n",
        "    #print(\"F de Best\", str(fDeBest))\n",
        "    if fDeU < fDeBest:   #para problemas de minimización\n",
        "      Best = S.copy()\n",
        "      X = S.copy()\n",
        "    else:\n",
        "      delta = fDeU - fDeBest\n",
        "      if math.exp(-delta/T) >= random.uniform(0,1):\n",
        "        X = S.copy()\n",
        "  T = alpha*T\n",
        "  results.append(fDeBest)\n",
        "  iterations = iterations-1\n",
        "  #print(\"Ciclo \", str(ciclos))\n",
        "print(\"F de Best = \",str(fDeBest))\n",
        "print(\"Mejor solución encontrada: \",Best)\n",
        "#print(\"Bests\", results)"
      ],
      "metadata": {
        "colab": {
          "base_uri": "https://localhost:8080/"
        },
        "id": "YGsCvlTKqcHK",
        "outputId": "cc26bd5c-dee8-48d1-d74a-6cdebee446d4"
      },
      "execution_count": 9,
      "outputs": [
        {
          "output_type": "stream",
          "name": "stdout",
          "text": [
            "Solución inicial:  [4.554884517589237, -5.621587445427158]\n",
            "F de Best 82.79867348907493\n",
            "F de Best =  -1.9065425367025322\n",
            "Mejor solución encontrada:  [-0.4804296571839579, -1.4924439508857692]\n"
          ]
        }
      ]
    },
    {
      "cell_type": "markdown",
      "source": [
        "A continuación se grafican las soluciones obtenidas en cada iteración."
      ],
      "metadata": {
        "id": "tCQ2y5IUqstC"
      }
    },
    {
      "cell_type": "code",
      "source": [
        "import matplotlib.pyplot as plt\n",
        "iteraciones = np.zeros(100)\n",
        "for i in range(100):\n",
        "  iteraciones[i] = i+1\n",
        "plt.plot(np.array(iteraciones),np.array(results))\n",
        "plt.ylabel(\"bestvalue\")\n",
        "plt.xlabel(\"iterations\")\n",
        "plt.show()"
      ],
      "metadata": {
        "colab": {
          "base_uri": "https://localhost:8080/",
          "height": 279
        },
        "id": "Vn7Ab6OQqzLJ",
        "outputId": "e640f0d8-5774-4404-f599-b4d5237cae7c"
      },
      "execution_count": 8,
      "outputs": [
        {
          "output_type": "display_data",
          "data": {
            "text/plain": [
              "<Figure size 432x288 with 1 Axes>"
            ],
            "image/png": "[encoded data removed]"
          },
          "metadata": {
            "needs_background": "light"
          }
        }
      ]
    }
  ]
}